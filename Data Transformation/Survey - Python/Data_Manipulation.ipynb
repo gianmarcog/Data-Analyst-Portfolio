{
 "cells": [
  {
   "cell_type": "code",
   "execution_count": null,
   "metadata": {},
   "outputs": [],
   "source": [
    "import pandas as pd\n",
    "import os"
   ]
  },
  {
   "cell_type": "code",
   "execution_count": null,
   "metadata": {},
   "outputs": [],
   "source": [
    "pwd = os.getcwd()"
   ]
  },
  {
   "cell_type": "code",
   "execution_count": null,
   "metadata": {},
   "outputs": [],
   "source": [
    "dataset = pd.read_excel(pwd + '/Data Output.xlsx', sheet_name=('Edited_Data'))\n",
    "dataset"
   ]
  },
  {
   "cell_type": "code",
   "execution_count": null,
   "metadata": {},
   "outputs": [],
   "source": [
    "dataset_modified = dataset.copy() # Create a copy of the original to work with. As a  backup of the origonal dataser\n",
    "dataset_modified"
   ]
  },
  {
   "cell_type": "code",
   "execution_count": null,
   "metadata": {},
   "outputs": [],
   "source": [
    "dataset_modified.columns"
   ]
  },
  {
   "cell_type": "code",
   "execution_count": null,
   "metadata": {},
   "outputs": [],
   "source": [
    "columns_to_drop = ['Start Date', 'End Date', 'Email Address',\n",
    "       'First Name', 'Last Name', 'Custom Data 1']\n",
    "columns_to_drop"
   ]
  },
  {
   "cell_type": "code",
   "execution_count": null,
   "metadata": {},
   "outputs": [],
   "source": [
    "dataset_modified = dataset_modified.drop(columns=columns_to_drop)\n",
    "dataset_modified"
   ]
  },
  {
   "cell_type": "code",
   "execution_count": null,
   "metadata": {},
   "outputs": [],
   "source": [
    "id_vars = list(dataset_modified.columns)[:8]\n",
    "value_vars = list(dataset_modified.columns)[8: ]"
   ]
  },
  {
   "cell_type": "code",
   "execution_count": null,
   "metadata": {},
   "outputs": [],
   "source": [
    "dataset_melted = dataset_modified.melt(id_vars=id_vars,value_vars=value_vars, var_name=\"Question + Subquestion\", value_name=\"Answer\")\n",
    "dataset_melted"
   ]
  },
  {
   "cell_type": "code",
   "execution_count": null,
   "metadata": {},
   "outputs": [],
   "source": [
    "question_import = pd.read_excel(pwd + '/Data Output.xlsx', sheet_name='Question')\n",
    "question_import"
   ]
  },
  {
   "cell_type": "code",
   "execution_count": null,
   "metadata": {},
   "outputs": [],
   "source": [
    "questions = question_import.copy()\n",
    "questions.drop(columns=[\"Raw Question\",\t\"Raw Subquestion\",\t\"Subquestion\"], inplace=True)"
   ]
  },
  {
   "cell_type": "code",
   "execution_count": null,
   "metadata": {},
   "outputs": [],
   "source": [
    "questions"
   ]
  },
  {
   "cell_type": "code",
   "execution_count": null,
   "metadata": {},
   "outputs": [],
   "source": [
    "questions.dropna(inplace=True)"
   ]
  },
  {
   "cell_type": "code",
   "execution_count": null,
   "metadata": {},
   "outputs": [],
   "source": [
    "questions"
   ]
  },
  {
   "cell_type": "code",
   "execution_count": null,
   "metadata": {},
   "outputs": [],
   "source": [
    "dataset_merged = pd.merge(left=dataset_melted, right=questions, how=\"left\",left_on=\"Question + Subquestion\", right_on=\"Question + Subquestion\")\n",
    "print(\"Original Data\", len(dataset_melted))\n",
    "print(\"Merged Data\", len(dataset_merged))\n",
    "dataset_merged"
   ]
  },
  {
   "cell_type": "code",
   "execution_count": null,
   "metadata": {},
   "outputs": [],
   "source": [
    "respondents = dataset_merged[dataset_merged[\"Answer\"].notna()]\n",
    "respondents = respondents.groupby(\"Question\")[\"Respondent ID\"].nunique().reset_index()\n",
    "respondents.rename(columns={\"Respondent ID\":\"Respondents\"}, inplace=True)\n",
    "respondents"
   ]
  },
  {
   "cell_type": "code",
   "execution_count": null,
   "metadata": {},
   "outputs": [],
   "source": [
    "dataset_merged_two = pd.merge(left=dataset_merged, right=respondents, how=\"left\",left_on=\"Question\", right_on=\"Question\")\n",
    "print(\"Original Data\", len(dataset_merged))\n",
    "print(\"Merged Data\", len(dataset_merged_two))\n",
    "dataset_merged_two"
   ]
  },
  {
   "cell_type": "code",
   "execution_count": null,
   "metadata": {},
   "outputs": [],
   "source": [
    "same_answer = dataset_merged\n",
    "same_answer = same_answer.groupby([\"Question + Subquestion\", \"Answer\"])[\"Respondent ID\"].nunique().reset_index()\n",
    "same_answer.rename(columns={'Respondent ID':'Same Answer'},inplace=True)\n",
    "same_answer"
   ]
  },
  {
   "cell_type": "code",
   "execution_count": null,
   "metadata": {},
   "outputs": [],
   "source": [
    "dataset_merged_three = pd.merge(left=dataset_merged_two, right=same_answer, how=\"left\",left_on=[\"Question + Subquestion\", \"Answer\"], right_on=[\"Question + Subquestion\", \"Answer\"])\n",
    "dataset_merged_three[\"Same Answer\"].fillna(0, inplace=True)\n",
    "print(\"Original Data\", len(dataset_merged_two))\n",
    "print(\"Merged Data\", len(dataset_merged_three))\n",
    "dataset_merged_three"
   ]
  },
  {
   "cell_type": "code",
   "execution_count": null,
   "metadata": {},
   "outputs": [],
   "source": [
    "output = dataset_merged_three.copy()\n",
    "output.rename(columns={\"Identify which division you work in. - Response\":\"Division Primary\", \"Identify which division you work in. - Other (please specify)\":\"Division Secondary\", \"Which of the following best describes your position level? - Response\":\"Position\", \"Which generation are you apart of? - Response\":\"Generation\", \"Please select the gender in which you identify. - Response\":\"Gender\", \"Which duration range best aligns with your tenure at your company? - Response\":\"Tenure\", \"Which of the following best describes your employment type? - Response\":\"Employment Type\"}, inplace=True)\n",
    "output"
   ]
  },
  {
   "cell_type": "code",
   "execution_count": null,
   "metadata": {},
   "outputs": [],
   "source": [
    "output.to_excel(pwd + \"/Final_Output.xlsx\", index=False)"
   ]
  },
  {
   "cell_type": "code",
   "execution_count": null,
   "metadata": {},
   "outputs": [],
   "source": []
  }
 ],
 "metadata": {
  "kernelspec": {
   "display_name": "Python 3.9.5 64-bit (conda)",
   "metadata": {
    "interpreter": {
     "hash": "cbe6a5cc571c62dd27f364faeccd2c471441c1c4f4c047871f50f7296df99976"
    }
   },
   "name": "python3"
  },
  "language_info": {
   "codemirror_mode": {
    "name": "ipython",
    "version": 3
   },
   "file_extension": ".py",
   "mimetype": "text/x-python",
   "name": "python",
   "nbconvert_exporter": "python",
   "pygments_lexer": "ipython3",
   "version": "3.9.5"
  },
  "orig_nbformat": 2
 },
 "nbformat": 4,
 "nbformat_minor": 2
}