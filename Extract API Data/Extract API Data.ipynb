{
 "cells": [
  {
   "cell_type": "code",
   "execution_count": 40,
   "metadata": {},
   "outputs": [],
   "source": [
    "import requests\n",
    "import pandas as pd\n",
    "from prettytable import PrettyTable\n",
    "import json"
   ]
  },
  {
   "cell_type": "code",
   "execution_count": 41,
   "metadata": {},
   "outputs": [],
   "source": [
    "tableobj = PrettyTable()\n",
    "KeyValue= '026b7a10-5571-4489-adbd-90ad4e2ed76f'"
   ]
  },
  {
   "cell_type": "code",
   "execution_count": 42,
   "metadata": {},
   "outputs": [
    {
     "data": {
      "text/plain": [
       "'https://pro-api.coinmarketcap.com/v1/cryptocurrency/listings/latest?CMC_PRO_API_KEY=026b7a10-5571-4489-adbd-90ad4e2ed76f'"
      ]
     },
     "execution_count": 42,
     "metadata": {},
     "output_type": "execute_result"
    }
   ],
   "source": [
    "api_endpoint = 'https://pro-api.coinmarketcap.com/v1/cryptocurrency/listings/latest?CMC_PRO_API_KEY='\n",
    "api_endpoint += KeyValue\n",
    "api_endpoint"
   ]
  },
  {
   "cell_type": "code",
   "execution_count": 43,
   "metadata": {},
   "outputs": [],
   "source": [
    "json_data = requests.get(api_endpoint).json()"
   ]
  },
  {
   "cell_type": "code",
   "execution_count": 44,
   "metadata": {},
   "outputs": [],
   "source": [
    "cryptodata = json_data['data']"
   ]
  },
  {
   "cell_type": "code",
   "execution_count": 49,
   "metadata": {},
   "outputs": [],
   "source": [
    "for currency in cryptodata:\n",
    "    curr_name = currency['name']\n",
    "    curr_price = currency['quote']['USD']['price']\n",
    "    curr_change_7d = currency['quote']['USD']['percent_change_7d']\n",
    "    tableobj.add_row([curr_name, curr_price, curr_change_7d])"
   ]
  },
  {
   "cell_type": "code",
   "execution_count": 50,
   "metadata": {},
   "outputs": [],
   "source": [
    "tableobj.fields_name = ['Currrency Name', 'Currrency Price', 'Currency_change_7d']"
   ]
  },
  {
   "cell_type": "code",
   "execution_count": 51,
   "metadata": {},
   "outputs": [
    {
     "name": "stdout",
     "output_type": "stream",
     "text": [
      "+-----------------------+--------------------+--------------+\n",
      "|        Field 1        |      Field 2       |   Field 3    |\n",
      "+-----------------------+--------------------+--------------+\n",
      "|        Bitcoin        |  56828.2653662391  |  -5.2809152  |\n",
      "|        Ethereum       | 2239.820054043319  |  4.40100239  |\n",
      "|      Binance Coin     | 507.65868240329735 | -2.15566007  |\n",
      "|          XRP          |  1.42473261589001  |  5.12984765  |\n",
      "|         Tether        |  0.99999250999522  | -0.13253864  |\n",
      "|        Dogecoin       |  0.32644539983798  | 339.58921027 |\n",
      "|        Cardano        |  1.30222382256289  |  2.23390684  |\n",
      "|        Polkadot       |  38.1943568352251  | -6.80540246  |\n",
      "|      Bitcoin Cash     | 1020.2374099883257 | 48.72674467  |\n",
      "|        Litecoin       | 276.61070448845146 | 10.34049862  |\n",
      "|       Chainlink       | 41.04640106373558  | 22.21134787  |\n",
      "|        VeChain        |  0.25959511425677  | 89.44934329  |\n",
      "|        Uniswap        |  31.7310471209165  |  6.94507432  |\n",
      "|        Stellar        |  0.55225505861838  | -6.90111414  |\n",
      "|         THETA         | 11.95815994376898  | -2.94507126  |\n",
      "|        USD Coin       |  0.99994598613242  | -0.20308622  |\n",
      "|        Filecoin       | 158.63934580343485 | -10.78380073 |\n",
      "|          TRON         |  0.14566227238335  |  12.5833934  |\n",
      "|    Wrapped Bitcoin    | 56712.80906361627  | -5.33224463  |\n",
      "|          Neo          | 122.32839002271342 |  92.1566078  |\n",
      "|         Solana        | 30.85928934016855  |  8.58345022  |\n",
      "|          EOS          |  7.3215387865569   |  9.60890699  |\n",
      "|          IOTA         |  2.39520067848368  | 17.83184176  |\n",
      "|       Bitcoin SV      | 333.53783663359167 | 22.20082147  |\n",
      "|         Monero        | 344.49853266697755 |  4.72349101  |\n",
      "|         Klaytn        |  2.47996761226595  | -17.38562158 |\n",
      "|      Binance USD      |    0.9999052588    | -0.21964481  |\n",
      "|       BitTorrent      |  0.00802706041992  | -5.04824978  |\n",
      "|    Crypto.com Coin    |  0.20841593849142  | -2.42492169  |\n",
      "|         Terra         | 13.54314251754009  | -9.83641471  |\n",
      "|         Tezos         |  6.33703957032746  |  -0.5567175  |\n",
      "|       FTX Token       | 51.09766786421307  |  -0.2989455  |\n",
      "|          Aave         | 382.86862372896474 |  2.74279729  |\n",
      "|         Cosmos        | 21.84371360340486  | -6.21913597  |\n",
      "|    Ethereum Classic   | 37.25663494177562  |  86.3199219  |\n",
      "|        Algorand       |  1.4957200023903   | -4.00805706  |\n",
      "|       Avalanche       | 29.36198487286673  | -7.10390809  |\n",
      "|       THORChain       | 16.19991225547342  | 50.58347892  |\n",
      "|          NEM          |  0.40616228363038  | -5.72783671  |\n",
      "|      PancakeSwap      | 23.27771339428331  | -9.22799114  |\n",
      "|          Dai          |  0.99925767335407  | -0.23924176  |\n",
      "|         Maker         |  3509.99678367796  | 52.29526472  |\n",
      "|         Kusama        | 407.87051466835857 | -6.19407225  |\n",
      "|         Elrond        | 188.9306231880446  | -21.24222903 |\n",
      "|          Dash         | 317.50048358917337 |  7.36248662  |\n",
      "|      Huobi Token      | 17.68057125898259  | -13.28196126 |\n",
      "|      Bitcoin BEP2     | 56597.10863780095  | -5.74776414  |\n",
      "|         Chiliz        |  0.54958283938972  | 18.76936574  |\n",
      "|         Zcash         | 261.9208644220811  | 12.57197352  |\n",
      "|         Decred        | 228.45043680015638 | 16.50336154  |\n",
      "|          Holo         |  0.01707899517135  | -16.34521686 |\n",
      "|        Compound       | 496.68266493869817 |  8.79554171  |\n",
      "|    Hedera Hashgraph   |  0.31044600293454  | -8.78159003  |\n",
      "|        Zilliqa        |  0.20490031694119  |  1.23951426  |\n",
      "|        Siacoin        |  0.04814995574575  | 78.15108545  |\n",
      "|       Enjin Coin      |  2.72425866472868  | -13.42327886 |\n",
      "|      UNUS SED LEO     |  2.21940752582279  |  4.86677923  |\n",
      "|         Stacks        |  2.00215634862105  |  5.64118373  |\n",
      "|      Decentraland     |  1.36858015292594  | 30.35086558  |\n",
      "|       The Graph       |  1.70819525610122  | -11.25720244 |\n",
      "|       Synthetix       |  17.9811707983784  | -4.12311705  |\n",
      "|        DigiByte       |  0.14479122887474  | 65.70113844  |\n",
      "|     yearn.finance     | 55532.09299062541  | 25.85540599  |\n",
      "| Basic Attention Token |  1.35147367697318  | -7.71381859  |\n",
      "|          Nexo         |  3.53203104316673  | 20.26749197  |\n",
      "|          Qtum         | 20.07966666377117  | 32.53790177  |\n",
      "|        Ontology       |  2.4072254071083   | 24.99122343  |\n",
      "|        Polygon        |  0.37052737143528  |  1.77533027  |\n",
      "|          UMA          | 31.54288154883351  | 17.05767382  |\n",
      "|     NEAR Protocol     |  5.14350769241692  | -24.85706501 |\n",
      "|        TerraUSD       |  1.00028581269852  |  0.10629056  |\n",
      "|       SushiSwap       | 13.56732219975046  | -3.37429064  |\n",
      "|       Ravencoin       |  0.20104298390378  |  7.5223043   |\n",
      "|      Bitcoin Gold     | 98.14342237358599  | -19.53289031 |\n",
      "|       Theta Fuel      |  0.32306045213916  | -8.38366198  |\n",
      "|        Celsius        |  6.34871626113743  | -9.88063233  |\n",
      "|         Waves         | 13.69944973530766  | -10.98896483 |\n",
      "|          Nano         | 10.77707388668222  | 86.69595764  |\n",
      "|           0x          |  1.81604680278922  | -13.1776491  |\n",
      "|          ICON         |  2.35608132469669  | -5.78570868  |\n",
      "|         Bancor        |  7.13888187660124  |  1.23487786  |\n",
      "|          IOST         |  0.0780849926597   | 38.10505881  |\n",
      "|        Harmony        |  0.13113542763397  | -6.63387046  |\n",
      "|     Reserve Rights    |  0.09366035363497  |  8.5017265   |\n",
      "|         Helium        | 15.56256656408293  | -10.60830704 |\n",
      "|      OMG Network      |  8.54843811540643  | -10.51179027 |\n",
      "|        Horizen        | 108.57030627737429 | 42.53258761  |\n",
      "|      KuCoin Token     | 14.78496567033303  | -21.43562893 |\n",
      "|          Ankr         |  0.16426741191606  |  9.51930945  |\n",
      "|          Flow         | 33.81243929099575  |   0.820958   |\n",
      "|      Pundi X[old]     |  0.00443707290553  | -7.98577191  |\n",
      "|         Revain        |  0.01292047033272  |  0.0163697   |\n",
      "|          OKB          | 17.89804953634144  | -18.80578168 |\n",
      "|         Fantom        |  0.41924999006178  | -9.31824257  |\n",
      "|          Dent         |  0.01103994229692  | -24.18999599 |\n",
      "|       SwissBorg       |  0.98252578332072  | -6.64114341  |\n",
      "|          Ren          |  0.95877321084902  | -7.46973308  |\n",
      "|         Verge         |  0.05794947110741  |  35.6338696  |\n",
      "|     Voyager Token     |  4.2723933276825   | -11.82933775 |\n",
      "|    Conflux Network    |  1.17984307848322  | -1.88829035  |\n",
      "+-----------------------+--------------------+--------------+\n"
     ]
    }
   ],
   "source": [
    "print(tableobj)"
   ]
  },
  {
   "cell_type": "code",
   "execution_count": 52,
   "metadata": {},
   "outputs": [],
   "source": [
    "table_txt = tableobj.get_string()\n",
    "with open('foo.text', 'w') as file:\n",
    "    file.write(table_txt)"
   ]
  },
  {
   "cell_type": "code",
   "execution_count": null,
   "metadata": {},
   "outputs": [],
   "source": []
  }
 ],
 "metadata": {
  "kernelspec": {
   "display_name": "Python 3",
   "language": "python",
   "name": "python3"
  },
  "language_info": {
   "codemirror_mode": {
    "name": "ipython",
    "version": 3
   },
   "file_extension": ".py",
   "mimetype": "text/x-python",
   "name": "python",
   "nbconvert_exporter": "python",
   "pygments_lexer": "ipython3",
   "version": "3.8.5"
  }
 },
 "nbformat": 4,
 "nbformat_minor": 4
}
