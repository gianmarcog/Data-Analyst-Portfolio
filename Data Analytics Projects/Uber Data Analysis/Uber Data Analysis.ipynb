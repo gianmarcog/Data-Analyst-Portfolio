{
 "cells": [
  {
   "cell_type": "code",
   "execution_count": 2,
   "metadata": {},
   "outputs": [
    {
     "name": "stdout",
     "output_type": "stream",
     "text": [
      "Populating the interactive namespace from numpy and matplotlib\n"
     ]
    }
   ],
   "source": [
    "import pandas as pd\n",
    "import seaborn as sns\n",
    "%pylab inline"
   ]
  },
  {
   "cell_type": "code",
   "execution_count": 4,
   "metadata": {},
   "outputs": [],
   "source": [
    "data = pd.read_csv('uber-raw-data-apr14.csv')"
   ]
  },
  {
   "cell_type": "code",
   "execution_count": 6,
   "metadata": {},
   "outputs": [
    {
     "data": {
      "text/html": [
       "<div>\n",
       "<style scoped>\n",
       "    .dataframe tbody tr th:only-of-type {\n",
       "        vertical-align: middle;\n",
       "    }\n",
       "\n",
       "    .dataframe tbody tr th {\n",
       "        vertical-align: top;\n",
       "    }\n",
       "\n",
       "    .dataframe thead th {\n",
       "        text-align: right;\n",
       "    }\n",
       "</style>\n",
       "<table border=\"1\" class=\"dataframe\">\n",
       "  <thead>\n",
       "    <tr style=\"text-align: right;\">\n",
       "      <th></th>\n",
       "      <th>Date/Time</th>\n",
       "      <th>Lat</th>\n",
       "      <th>Lon</th>\n",
       "      <th>Base</th>\n",
       "    </tr>\n",
       "  </thead>\n",
       "  <tbody>\n",
       "    <tr>\n",
       "      <th>564511</th>\n",
       "      <td>4/30/2014 23:22:00</td>\n",
       "      <td>40.7640</td>\n",
       "      <td>-73.9744</td>\n",
       "      <td>B02764</td>\n",
       "    </tr>\n",
       "    <tr>\n",
       "      <th>564512</th>\n",
       "      <td>4/30/2014 23:26:00</td>\n",
       "      <td>40.7629</td>\n",
       "      <td>-73.9672</td>\n",
       "      <td>B02764</td>\n",
       "    </tr>\n",
       "    <tr>\n",
       "      <th>564513</th>\n",
       "      <td>4/30/2014 23:31:00</td>\n",
       "      <td>40.7443</td>\n",
       "      <td>-73.9889</td>\n",
       "      <td>B02764</td>\n",
       "    </tr>\n",
       "    <tr>\n",
       "      <th>564514</th>\n",
       "      <td>4/30/2014 23:32:00</td>\n",
       "      <td>40.6756</td>\n",
       "      <td>-73.9405</td>\n",
       "      <td>B02764</td>\n",
       "    </tr>\n",
       "    <tr>\n",
       "      <th>564515</th>\n",
       "      <td>4/30/2014 23:48:00</td>\n",
       "      <td>40.6880</td>\n",
       "      <td>-73.9608</td>\n",
       "      <td>B02764</td>\n",
       "    </tr>\n",
       "  </tbody>\n",
       "</table>\n",
       "</div>"
      ],
      "text/plain": [
       "                 Date/Time      Lat      Lon    Base\n",
       "564511  4/30/2014 23:22:00  40.7640 -73.9744  B02764\n",
       "564512  4/30/2014 23:26:00  40.7629 -73.9672  B02764\n",
       "564513  4/30/2014 23:31:00  40.7443 -73.9889  B02764\n",
       "564514  4/30/2014 23:32:00  40.6756 -73.9405  B02764\n",
       "564515  4/30/2014 23:48:00  40.6880 -73.9608  B02764"
      ]
     },
     "execution_count": 6,
     "metadata": {},
     "output_type": "execute_result"
    }
   ],
   "source": [
    "data.tail() # tail() shows the last rows from the table"
   ]
  },
  {
   "cell_type": "code",
   "execution_count": 9,
   "metadata": {},
   "outputs": [
    {
     "name": "stdout",
     "output_type": "stream",
     "text": [
      "<class 'pandas.core.frame.DataFrame'>\n",
      "RangeIndex: 564516 entries, 0 to 564515\n",
      "Data columns (total 4 columns):\n",
      " #   Column     Non-Null Count   Dtype  \n",
      "---  ------     --------------   -----  \n",
      " 0   Date/Time  564516 non-null  object \n",
      " 1   Lat        564516 non-null  float64\n",
      " 2   Lon        564516 non-null  float64\n",
      " 3   Base       564516 non-null  object \n",
      "dtypes: float64(2), object(2)\n",
      "memory usage: 17.2+ MB\n"
     ]
    }
   ],
   "source": [
    "data.info()"
   ]
  },
  {
   "cell_type": "markdown",
   "metadata": {},
   "source": [
    "### Convert datetime"
   ]
  },
  {
   "cell_type": "code",
   "execution_count": 15,
   "metadata": {},
   "outputs": [],
   "source": [
    "data['Date/Time'] = data['Date/Time'].map(pd.to_datetime)"
   ]
  },
  {
   "cell_type": "code",
   "execution_count": 18,
   "metadata": {},
   "outputs": [
    {
     "data": {
      "text/html": [
       "<div>\n",
       "<style scoped>\n",
       "    .dataframe tbody tr th:only-of-type {\n",
       "        vertical-align: middle;\n",
       "    }\n",
       "\n",
       "    .dataframe tbody tr th {\n",
       "        vertical-align: top;\n",
       "    }\n",
       "\n",
       "    .dataframe thead th {\n",
       "        text-align: right;\n",
       "    }\n",
       "</style>\n",
       "<table border=\"1\" class=\"dataframe\">\n",
       "  <thead>\n",
       "    <tr style=\"text-align: right;\">\n",
       "      <th></th>\n",
       "      <th>Date/Time</th>\n",
       "      <th>Lat</th>\n",
       "      <th>Lon</th>\n",
       "      <th>Base</th>\n",
       "    </tr>\n",
       "  </thead>\n",
       "  <tbody>\n",
       "    <tr>\n",
       "      <th>0</th>\n",
       "      <td>2014-04-01 00:11:00</td>\n",
       "      <td>40.7690</td>\n",
       "      <td>-73.9549</td>\n",
       "      <td>B02512</td>\n",
       "    </tr>\n",
       "    <tr>\n",
       "      <th>1</th>\n",
       "      <td>2014-04-01 00:17:00</td>\n",
       "      <td>40.7267</td>\n",
       "      <td>-74.0345</td>\n",
       "      <td>B02512</td>\n",
       "    </tr>\n",
       "    <tr>\n",
       "      <th>2</th>\n",
       "      <td>2014-04-01 00:21:00</td>\n",
       "      <td>40.7316</td>\n",
       "      <td>-73.9873</td>\n",
       "      <td>B02512</td>\n",
       "    </tr>\n",
       "    <tr>\n",
       "      <th>3</th>\n",
       "      <td>2014-04-01 00:28:00</td>\n",
       "      <td>40.7588</td>\n",
       "      <td>-73.9776</td>\n",
       "      <td>B02512</td>\n",
       "    </tr>\n",
       "    <tr>\n",
       "      <th>4</th>\n",
       "      <td>2014-04-01 00:33:00</td>\n",
       "      <td>40.7594</td>\n",
       "      <td>-73.9722</td>\n",
       "      <td>B02512</td>\n",
       "    </tr>\n",
       "  </tbody>\n",
       "</table>\n",
       "</div>"
      ],
      "text/plain": [
       "            Date/Time      Lat      Lon    Base\n",
       "0 2014-04-01 00:11:00  40.7690 -73.9549  B02512\n",
       "1 2014-04-01 00:17:00  40.7267 -74.0345  B02512\n",
       "2 2014-04-01 00:21:00  40.7316 -73.9873  B02512\n",
       "3 2014-04-01 00:28:00  40.7588 -73.9776  B02512\n",
       "4 2014-04-01 00:33:00  40.7594 -73.9722  B02512"
      ]
     },
     "execution_count": 18,
     "metadata": {},
     "output_type": "execute_result"
    }
   ],
   "source": [
    "data.head()"
   ]
  },
  {
   "cell_type": "code",
   "execution_count": 19,
   "metadata": {},
   "outputs": [],
   "source": [
    "def get_dom(dt):\n",
    "    return dt.day\n",
    "\n",
    "data['dom'] = data['Date/Time'].map(get_dom)"
   ]
  },
  {
   "cell_type": "code",
   "execution_count": 20,
   "metadata": {},
   "outputs": [
    {
     "data": {
      "text/html": [
       "<div>\n",
       "<style scoped>\n",
       "    .dataframe tbody tr th:only-of-type {\n",
       "        vertical-align: middle;\n",
       "    }\n",
       "\n",
       "    .dataframe tbody tr th {\n",
       "        vertical-align: top;\n",
       "    }\n",
       "\n",
       "    .dataframe thead th {\n",
       "        text-align: right;\n",
       "    }\n",
       "</style>\n",
       "<table border=\"1\" class=\"dataframe\">\n",
       "  <thead>\n",
       "    <tr style=\"text-align: right;\">\n",
       "      <th></th>\n",
       "      <th>Date/Time</th>\n",
       "      <th>Lat</th>\n",
       "      <th>Lon</th>\n",
       "      <th>Base</th>\n",
       "      <th>dom</th>\n",
       "    </tr>\n",
       "  </thead>\n",
       "  <tbody>\n",
       "    <tr>\n",
       "      <th>564511</th>\n",
       "      <td>2014-04-30 23:22:00</td>\n",
       "      <td>40.7640</td>\n",
       "      <td>-73.9744</td>\n",
       "      <td>B02764</td>\n",
       "      <td>30</td>\n",
       "    </tr>\n",
       "    <tr>\n",
       "      <th>564512</th>\n",
       "      <td>2014-04-30 23:26:00</td>\n",
       "      <td>40.7629</td>\n",
       "      <td>-73.9672</td>\n",
       "      <td>B02764</td>\n",
       "      <td>30</td>\n",
       "    </tr>\n",
       "    <tr>\n",
       "      <th>564513</th>\n",
       "      <td>2014-04-30 23:31:00</td>\n",
       "      <td>40.7443</td>\n",
       "      <td>-73.9889</td>\n",
       "      <td>B02764</td>\n",
       "      <td>30</td>\n",
       "    </tr>\n",
       "    <tr>\n",
       "      <th>564514</th>\n",
       "      <td>2014-04-30 23:32:00</td>\n",
       "      <td>40.6756</td>\n",
       "      <td>-73.9405</td>\n",
       "      <td>B02764</td>\n",
       "      <td>30</td>\n",
       "    </tr>\n",
       "    <tr>\n",
       "      <th>564515</th>\n",
       "      <td>2014-04-30 23:48:00</td>\n",
       "      <td>40.6880</td>\n",
       "      <td>-73.9608</td>\n",
       "      <td>B02764</td>\n",
       "      <td>30</td>\n",
       "    </tr>\n",
       "  </tbody>\n",
       "</table>\n",
       "</div>"
      ],
      "text/plain": [
       "                 Date/Time      Lat      Lon    Base  dom\n",
       "564511 2014-04-30 23:22:00  40.7640 -73.9744  B02764   30\n",
       "564512 2014-04-30 23:26:00  40.7629 -73.9672  B02764   30\n",
       "564513 2014-04-30 23:31:00  40.7443 -73.9889  B02764   30\n",
       "564514 2014-04-30 23:32:00  40.6756 -73.9405  B02764   30\n",
       "564515 2014-04-30 23:48:00  40.6880 -73.9608  B02764   30"
      ]
     },
     "execution_count": 20,
     "metadata": {},
     "output_type": "execute_result"
    }
   ],
   "source": [
    "data.tail()"
   ]
  },
  {
   "cell_type": "code",
   "execution_count": 24,
   "metadata": {},
   "outputs": [
    {
     "data": {
      "text/html": [
       "<div>\n",
       "<style scoped>\n",
       "    .dataframe tbody tr th:only-of-type {\n",
       "        vertical-align: middle;\n",
       "    }\n",
       "\n",
       "    .dataframe tbody tr th {\n",
       "        vertical-align: top;\n",
       "    }\n",
       "\n",
       "    .dataframe thead th {\n",
       "        text-align: right;\n",
       "    }\n",
       "</style>\n",
       "<table border=\"1\" class=\"dataframe\">\n",
       "  <thead>\n",
       "    <tr style=\"text-align: right;\">\n",
       "      <th></th>\n",
       "      <th>Date/Time</th>\n",
       "      <th>Lat</th>\n",
       "      <th>Lon</th>\n",
       "      <th>Base</th>\n",
       "      <th>dom</th>\n",
       "      <th>weekday</th>\n",
       "      <th>hour</th>\n",
       "    </tr>\n",
       "  </thead>\n",
       "  <tbody>\n",
       "    <tr>\n",
       "      <th>564511</th>\n",
       "      <td>2014-04-30 23:22:00</td>\n",
       "      <td>40.7640</td>\n",
       "      <td>-73.9744</td>\n",
       "      <td>B02764</td>\n",
       "      <td>30</td>\n",
       "      <td>2</td>\n",
       "      <td>23</td>\n",
       "    </tr>\n",
       "    <tr>\n",
       "      <th>564512</th>\n",
       "      <td>2014-04-30 23:26:00</td>\n",
       "      <td>40.7629</td>\n",
       "      <td>-73.9672</td>\n",
       "      <td>B02764</td>\n",
       "      <td>30</td>\n",
       "      <td>2</td>\n",
       "      <td>23</td>\n",
       "    </tr>\n",
       "    <tr>\n",
       "      <th>564513</th>\n",
       "      <td>2014-04-30 23:31:00</td>\n",
       "      <td>40.7443</td>\n",
       "      <td>-73.9889</td>\n",
       "      <td>B02764</td>\n",
       "      <td>30</td>\n",
       "      <td>2</td>\n",
       "      <td>23</td>\n",
       "    </tr>\n",
       "    <tr>\n",
       "      <th>564514</th>\n",
       "      <td>2014-04-30 23:32:00</td>\n",
       "      <td>40.6756</td>\n",
       "      <td>-73.9405</td>\n",
       "      <td>B02764</td>\n",
       "      <td>30</td>\n",
       "      <td>2</td>\n",
       "      <td>23</td>\n",
       "    </tr>\n",
       "    <tr>\n",
       "      <th>564515</th>\n",
       "      <td>2014-04-30 23:48:00</td>\n",
       "      <td>40.6880</td>\n",
       "      <td>-73.9608</td>\n",
       "      <td>B02764</td>\n",
       "      <td>30</td>\n",
       "      <td>2</td>\n",
       "      <td>23</td>\n",
       "    </tr>\n",
       "  </tbody>\n",
       "</table>\n",
       "</div>"
      ],
      "text/plain": [
       "                 Date/Time      Lat      Lon    Base  dom  weekday  hour\n",
       "564511 2014-04-30 23:22:00  40.7640 -73.9744  B02764   30        2    23\n",
       "564512 2014-04-30 23:26:00  40.7629 -73.9672  B02764   30        2    23\n",
       "564513 2014-04-30 23:31:00  40.7443 -73.9889  B02764   30        2    23\n",
       "564514 2014-04-30 23:32:00  40.6756 -73.9405  B02764   30        2    23\n",
       "564515 2014-04-30 23:48:00  40.6880 -73.9608  B02764   30        2    23"
      ]
     },
     "execution_count": 24,
     "metadata": {},
     "output_type": "execute_result"
    }
   ],
   "source": [
    "def get_weekday(dt):\n",
    "    return dt.weekday()\n",
    "\n",
    "data['weekday'] = data['Date/Time'].map(get_weekday)\n",
    "\n",
    "def get_hour(dt):\n",
    "    return dt.hour\n",
    "\n",
    "data['hour'] = data['Date/Time'].map(get_hour)\n",
    "\n",
    "data.tail()"
   ]
  },
  {
   "cell_type": "markdown",
   "metadata": {},
   "source": [
    "### Analyze the DoM"
   ]
  },
  {
   "cell_type": "code",
   "execution_count": 29,
   "metadata": {},
   "outputs": [
    {
     "data": {
      "text/plain": [
       "Text(0.5, 1.0, 'Frequency by DoM - Uber - April 2014')"
      ]
     },
     "execution_count": 29,
     "metadata": {},
     "output_type": "execute_result"
    },
    {
     "data": {
      "image/png": "[encoded data removed]",
      "text/plain": [
       "<Figure size 432x288 with 1 Axes>"
      ]
     },
     "metadata": {
      "needs_background": "light"
     },
     "output_type": "display_data"
    }
   ],
   "source": [
    "hist(data.dom, bins=30, rwidth=0.5, range=(0.5, 30.5))\n",
    "xlabel('date of the month')\n",
    "ylabel('frequency')\n",
    "title('Frequency by DoM - Uber - April 2014')"
   ]
  },
  {
   "cell_type": "code",
   "execution_count": 32,
   "metadata": {},
   "outputs": [
    {
     "data": {
      "text/plain": [
       "dom\n",
       "1     14546\n",
       "2     17474\n",
       "3     20701\n",
       "4     26714\n",
       "5     19521\n",
       "6     13445\n",
       "7     19550\n",
       "8     16188\n",
       "9     16843\n",
       "10    20041\n",
       "11    20420\n",
       "12    18170\n",
       "13    12112\n",
       "14    12674\n",
       "15    20641\n",
       "16    17717\n",
       "17    20973\n",
       "18    18074\n",
       "19    14602\n",
       "20    11017\n",
       "21    13162\n",
       "22    16975\n",
       "23    20346\n",
       "24    23352\n",
       "25    25095\n",
       "26    24925\n",
       "27    14677\n",
       "28    15475\n",
       "29    22835\n",
       "30    36251\n",
       "dtype: int64"
      ]
     },
     "execution_count": 32,
     "metadata": {},
     "output_type": "execute_result"
    }
   ],
   "source": [
    "def count_rows(rows):\n",
    "    return len(rows)\n",
    "\n",
    "by_date = data.groupby('dom').apply(count_rows)\n",
    "by_date"
   ]
  },
  {
   "cell_type": "code",
   "execution_count": 34,
   "metadata": {},
   "outputs": [
    {
     "data": {
      "text/plain": [
       "<BarContainer object of 30 artists>"
      ]
     },
     "execution_count": 34,
     "metadata": {},
     "output_type": "execute_result"
    },
    {
     "data": {
      "image/png": "[encoded data removed]",
      "text/plain": [
       "<Figure size 432x288 with 1 Axes>"
      ]
     },
     "metadata": {
      "needs_background": "light"
     },
     "output_type": "display_data"
    }
   ],
   "source": [
    "bar(range(1,31),by_date)"
   ]
  },
  {
   "cell_type": "code",
   "execution_count": 35,
   "metadata": {},
   "outputs": [
    {
     "data": {
      "text/plain": [
       "dom\n",
       "20    11017\n",
       "13    12112\n",
       "14    12674\n",
       "21    13162\n",
       "6     13445\n",
       "1     14546\n",
       "19    14602\n",
       "27    14677\n",
       "28    15475\n",
       "8     16188\n",
       "9     16843\n",
       "22    16975\n",
       "2     17474\n",
       "16    17717\n",
       "18    18074\n",
       "12    18170\n",
       "5     19521\n",
       "7     19550\n",
       "10    20041\n",
       "23    20346\n",
       "11    20420\n",
       "15    20641\n",
       "3     20701\n",
       "17    20973\n",
       "29    22835\n",
       "24    23352\n",
       "26    24925\n",
       "25    25095\n",
       "4     26714\n",
       "30    36251\n",
       "dtype: int64"
      ]
     },
     "execution_count": 35,
     "metadata": {},
     "output_type": "execute_result"
    }
   ],
   "source": [
    "by_date_sorted = by_date.sort_values()\n",
    "by_date_sorted"
   ]
  },
  {
   "cell_type": "code",
   "execution_count": 36,
   "metadata": {},
   "outputs": [
    {
     "data": {
      "text/plain": [
       "([<matplotlib.axis.XTick at 0x7f8d9fe7a4c0>,\n",
       "  <matplotlib.axis.XTick at 0x7f8d8b637310>,\n",
       "  <matplotlib.axis.XTick at 0x7f8d8b62edf0>,\n",
       "  <matplotlib.axis.XTick at 0x7f8d8b735fa0>,\n",
       "  <matplotlib.axis.XTick at 0x7f8d8b7444f0>,\n",
       "  <matplotlib.axis.XTick at 0x7f8d8b744a00>,\n",
       "  <matplotlib.axis.XTick at 0x7f8d8b744f10>,\n",
       "  <matplotlib.axis.XTick at 0x7f8d8b744640>,\n",
       "  <matplotlib.axis.XTick at 0x7f8d8b748220>,\n",
       "  <matplotlib.axis.XTick at 0x7f8d8b7487c0>,\n",
       "  <matplotlib.axis.XTick at 0x7f8d8b748cd0>,\n",
       "  <matplotlib.axis.XTick at 0x7f8d8b750220>,\n",
       "  <matplotlib.axis.XTick at 0x7f8d8b750730>,\n",
       "  <matplotlib.axis.XTick at 0x7f8d8b750c40>,\n",
       "  <matplotlib.axis.XTick at 0x7f8d8b755190>,\n",
       "  <matplotlib.axis.XTick at 0x7f8d8b7556a0>,\n",
       "  <matplotlib.axis.XTick at 0x7f8d8b750340>,\n",
       "  <matplotlib.axis.XTick at 0x7f8d8b7483d0>,\n",
       "  <matplotlib.axis.XTick at 0x7f8d8b7551f0>,\n",
       "  <matplotlib.axis.XTick at 0x7f8d8b755d60>,\n",
       "  <matplotlib.axis.XTick at 0x7f8d8b75d2b0>,\n",
       "  <matplotlib.axis.XTick at 0x7f8d8b75d7c0>,\n",
       "  <matplotlib.axis.XTick at 0x7f8d8b75dcd0>,\n",
       "  <matplotlib.axis.XTick at 0x7f8d8b763220>,\n",
       "  <matplotlib.axis.XTick at 0x7f8d8b763730>,\n",
       "  <matplotlib.axis.XTick at 0x7f8d8b75d820>,\n",
       "  <matplotlib.axis.XTick at 0x7f8d8b7558b0>,\n",
       "  <matplotlib.axis.XTick at 0x7f8d8b7637f0>,\n",
       "  <matplotlib.axis.XTick at 0x7f8d8b763d60>,\n",
       "  <matplotlib.axis.XTick at 0x7f8d8b76a2b0>],\n",
       " [Text(1, 0, '20'),\n",
       "  Text(2, 0, '13'),\n",
       "  Text(3, 0, '14'),\n",
       "  Text(4, 0, '21'),\n",
       "  Text(5, 0, '6'),\n",
       "  Text(6, 0, '1'),\n",
       "  Text(7, 0, '19'),\n",
       "  Text(8, 0, '27'),\n",
       "  Text(9, 0, '28'),\n",
       "  Text(10, 0, '8'),\n",
       "  Text(11, 0, '9'),\n",
       "  Text(12, 0, '22'),\n",
       "  Text(13, 0, '2'),\n",
       "  Text(14, 0, '16'),\n",
       "  Text(15, 0, '18'),\n",
       "  Text(16, 0, '12'),\n",
       "  Text(17, 0, '5'),\n",
       "  Text(18, 0, '7'),\n",
       "  Text(19, 0, '10'),\n",
       "  Text(20, 0, '23'),\n",
       "  Text(21, 0, '11'),\n",
       "  Text(22, 0, '15'),\n",
       "  Text(23, 0, '3'),\n",
       "  Text(24, 0, '17'),\n",
       "  Text(25, 0, '29'),\n",
       "  Text(26, 0, '24'),\n",
       "  Text(27, 0, '26'),\n",
       "  Text(28, 0, '25'),\n",
       "  Text(29, 0, '4'),\n",
       "  Text(30, 0, '30')])"
      ]
     },
     "execution_count": 36,
     "metadata": {},
     "output_type": "execute_result"
    },
    {
     "data": {
      "image/png": "[encoded data removed]",
      "text/plain": [
       "<Figure size 432x288 with 1 Axes>"
      ]
     },
     "metadata": {
      "needs_background": "light"
     },
     "output_type": "display_data"
    }
   ],
   "source": [
    "bar(range(1,31), by_date_sorted)\n",
    "xticks(range(1,31), by_date_sorted.index)"
   ]
  },
  {
   "cell_type": "markdown",
   "metadata": {},
   "source": [
    "### analyze the hour"
   ]
  },
  {
   "cell_type": "code",
   "execution_count": 37,
   "metadata": {},
   "outputs": [
    {
     "data": {
      "text/plain": [
       "(array([ 7769.,  4935.,  5040.,  6095.,  9476., 18498., 24924., 22843.,\n",
       "        17939., 17865., 18774., 19425., 22603., 27190., 35324., 42003.,\n",
       "        45475., 43003., 38923., 36244., 36964., 30645., 20649.,     0.]),\n",
       " array([ 0.5       ,  1.47916667,  2.45833333,  3.4375    ,  4.41666667,\n",
       "         5.39583333,  6.375     ,  7.35416667,  8.33333333,  9.3125    ,\n",
       "        10.29166667, 11.27083333, 12.25      , 13.22916667, 14.20833333,\n",
       "        15.1875    , 16.16666667, 17.14583333, 18.125     , 19.10416667,\n",
       "        20.08333333, 21.0625    , 22.04166667, 23.02083333, 24.        ]),\n",
       " <BarContainer object of 24 artists>)"
      ]
     },
     "execution_count": 37,
     "metadata": {},
     "output_type": "execute_result"
    },
    {
     "data": {
      "image/png": "[encoded data removed]",
      "text/plain": [
       "<Figure size 432x288 with 1 Axes>"
      ]
     },
     "metadata": {
      "needs_background": "light"
     },
     "output_type": "display_data"
    }
   ],
   "source": [
    "hist(data.hour, bins=24, range=(0.5, 24))"
   ]
  },
  {
   "cell_type": "markdown",
   "metadata": {},
   "source": [
    "### analyze the weekday"
   ]
  },
  {
   "cell_type": "code",
   "execution_count": 42,
   "metadata": {},
   "outputs": [
    {
     "data": {
      "text/plain": [
       "([<matplotlib.axis.XTick at 0x7f8d8d4ef580>,\n",
       "  <matplotlib.axis.XTick at 0x7f8d8d4ef550>,\n",
       "  <matplotlib.axis.XTick at 0x7f8d8d4eab80>,\n",
       "  <matplotlib.axis.XTick at 0x7f8d8f031a90>,\n",
       "  <matplotlib.axis.XTick at 0x7f8d8f031fa0>,\n",
       "  <matplotlib.axis.XTick at 0x7f8d8f03c4f0>,\n",
       "  <matplotlib.axis.XTick at 0x7f8d8f0232e0>],\n",
       " [Text(0, 0, 'Mon'),\n",
       "  Text(1, 0, 'Tue'),\n",
       "  Text(2, 0, 'Wed'),\n",
       "  Text(3, 0, 'Thu'),\n",
       "  Text(4, 0, 'Fri'),\n",
       "  Text(5, 0, 'Sat'),\n",
       "  Text(6, 0, 'Sun')])"
      ]
     },
     "execution_count": 42,
     "metadata": {},
     "output_type": "execute_result"
    },
    {
     "data": {
      "image/png": "[encoded data removed]",
      "text/plain": [
       "<Figure size 432x288 with 1 Axes>"
      ]
     },
     "metadata": {
      "needs_background": "light"
     },
     "output_type": "display_data"
    }
   ],
   "source": [
    "hist(data.weekday, bins=7, range=(-.5, 6.5), rwidth=0.8, color='green', alpha=0.4)\n",
    "xticks(range(7), 'Mon Tue Wed Thu Fri Sat Sun'.split())"
   ]
  },
  {
   "cell_type": "markdown",
   "metadata": {},
   "source": [
    "### Cross analysis (hour,dow)"
   ]
  },
  {
   "cell_type": "code",
   "execution_count": 44,
   "metadata": {},
   "outputs": [],
   "source": [
    "by_cross = data.groupby('weekday hour'.split()).apply(count_rows).unstack()"
   ]
  },
  {
   "cell_type": "code",
   "execution_count": 45,
   "metadata": {},
   "outputs": [
    {
     "data": {
      "text/plain": [
       "<AxesSubplot:xlabel='hour', ylabel='weekday'>"
      ]
     },
     "execution_count": 45,
     "metadata": {},
     "output_type": "execute_result"
    },
    {
     "data": {
      "image/png": "[encoded data removed]",
      "text/plain": [
       "<Figure size 432x288 with 2 Axes>"
      ]
     },
     "metadata": {
      "needs_background": "light"
     },
     "output_type": "display_data"
    }
   ],
   "source": [
    "sns.heatmap(by_cross)"
   ]
  },
  {
   "cell_type": "code",
   "execution_count": null,
   "metadata": {},
   "outputs": [],
   "source": []
  }
 ],
 "metadata": {
  "kernelspec": {
   "display_name": "Python 3",
   "language": "python",
   "name": "python3"
  },
  "language_info": {
   "codemirror_mode": {
    "name": "ipython",
    "version": 3
   },
   "file_extension": ".py",
   "mimetype": "text/x-python",
   "name": "python",
   "nbconvert_exporter": "python",
   "pygments_lexer": "ipython3",
   "version": "3.8.5"
  }
 },
 "nbformat": 4,
 "nbformat_minor": 4
}
