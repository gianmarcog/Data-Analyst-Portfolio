{
 "cells": [
  {
   "cell_type": "markdown",
   "metadata": {},
   "source": [
    "## Harry Potter Characters"
   ]
  },
  {
   "cell_type": "code",
   "execution_count": 79,
   "metadata": {},
   "outputs": [],
   "source": [
    "import numpy as np\n",
    "import pandas as pd\n",
    "import matplotlib.pyplot as plt\n",
    "import seaborn as sns\n",
    "%matplotlib inline"
   ]
  },
  {
   "cell_type": "code",
   "execution_count": 117,
   "metadata": {},
   "outputs": [],
   "source": [
    "df = pd.read_csv('HPCharactersData.csv')"
   ]
  },
  {
   "cell_type": "code",
   "execution_count": 118,
   "metadata": {},
   "outputs": [
    {
     "data": {
      "text/html": [
       "<div>\n",
       "<style scoped>\n",
       "    .dataframe tbody tr th:only-of-type {\n",
       "        vertical-align: middle;\n",
       "    }\n",
       "\n",
       "    .dataframe tbody tr th {\n",
       "        vertical-align: top;\n",
       "    }\n",
       "\n",
       "    .dataframe thead th {\n",
       "        text-align: right;\n",
       "    }\n",
       "</style>\n",
       "<table border=\"1\" class=\"dataframe\">\n",
       "  <thead>\n",
       "    <tr style=\"text-align: right;\">\n",
       "      <th></th>\n",
       "      <th>Name</th>\n",
       "      <th>Link</th>\n",
       "      <th>Descr</th>\n",
       "      <th>Gender</th>\n",
       "      <th>Species/Race</th>\n",
       "      <th>Blood</th>\n",
       "      <th>School</th>\n",
       "      <th>Profession</th>\n",
       "    </tr>\n",
       "  </thead>\n",
       "  <tbody>\n",
       "    <tr>\n",
       "      <th>0</th>\n",
       "      <td>Mrs. Abbott</td>\n",
       "      <td>https://www.hp-lexicon.org/character/abbott-fa...</td>\n",
       "      <td>Mrs. Abbott was the mother of Hannah Abbott, a...</td>\n",
       "      <td>Female</td>\n",
       "      <td>witch</td>\n",
       "      <td>Muggle-born</td>\n",
       "      <td>Unknown</td>\n",
       "      <td>Unknown</td>\n",
       "    </tr>\n",
       "    <tr>\n",
       "      <th>1</th>\n",
       "      <td>Hannah Abbott</td>\n",
       "      <td>https://www.hp-lexicon.org/character/abbott-fa...</td>\n",
       "      <td>Hannah Abbott is a Hufflepuff student in Harry...</td>\n",
       "      <td>Female</td>\n",
       "      <td>witch</td>\n",
       "      <td>Half-blood</td>\n",
       "      <td>Hogwarts - Hufflepuff</td>\n",
       "      <td>Landlady of the Leaky Cauldron</td>\n",
       "    </tr>\n",
       "    <tr>\n",
       "      <th>2</th>\n",
       "      <td>Abel Treetops</td>\n",
       "      <td>https://www.hp-lexicon.org/character/abel-tree...</td>\n",
       "      <td>Abel Treetops was a wizard from Cincinnati who...</td>\n",
       "      <td>Male</td>\n",
       "      <td>wizard</td>\n",
       "      <td>Unknown</td>\n",
       "      <td>Unknown</td>\n",
       "      <td>Unknown</td>\n",
       "    </tr>\n",
       "    <tr>\n",
       "      <th>3</th>\n",
       "      <td>Euan Abercrombie</td>\n",
       "      <td>https://www.hp-lexicon.org/character/abercromb...</td>\n",
       "      <td>Euan Abercrombie was a small boy with prominen...</td>\n",
       "      <td>Male</td>\n",
       "      <td>wizard</td>\n",
       "      <td>Unknown</td>\n",
       "      <td>Hogwarts - Gryffindor</td>\n",
       "      <td>Unknown</td>\n",
       "    </tr>\n",
       "    <tr>\n",
       "      <th>4</th>\n",
       "      <td>Aberforth Dumbledore</td>\n",
       "      <td>https://www.hp-lexicon.org/character/dumbledor...</td>\n",
       "      <td>Aberforth Dumbledore was a tall, thin, grumpy-...</td>\n",
       "      <td>Male</td>\n",
       "      <td>wizard</td>\n",
       "      <td>Half-blood</td>\n",
       "      <td>Hogwarts - Student</td>\n",
       "      <td>Barman</td>\n",
       "    </tr>\n",
       "  </tbody>\n",
       "</table>\n",
       "</div>"
      ],
      "text/plain": [
       "                   Name                                               Link  \\\n",
       "0           Mrs. Abbott  https://www.hp-lexicon.org/character/abbott-fa...   \n",
       "1         Hannah Abbott  https://www.hp-lexicon.org/character/abbott-fa...   \n",
       "2         Abel Treetops  https://www.hp-lexicon.org/character/abel-tree...   \n",
       "3      Euan Abercrombie  https://www.hp-lexicon.org/character/abercromb...   \n",
       "4  Aberforth Dumbledore  https://www.hp-lexicon.org/character/dumbledor...   \n",
       "\n",
       "                                               Descr  Gender Species/Race  \\\n",
       "0  Mrs. Abbott was the mother of Hannah Abbott, a...  Female        witch   \n",
       "1  Hannah Abbott is a Hufflepuff student in Harry...  Female        witch   \n",
       "2  Abel Treetops was a wizard from Cincinnati who...    Male       wizard   \n",
       "3  Euan Abercrombie was a small boy with prominen...    Male       wizard   \n",
       "4  Aberforth Dumbledore was a tall, thin, grumpy-...    Male       wizard   \n",
       "\n",
       "         Blood                 School                      Profession  \n",
       "0  Muggle-born                Unknown                         Unknown  \n",
       "1   Half-blood  Hogwarts - Hufflepuff  Landlady of the Leaky Cauldron  \n",
       "2      Unknown                Unknown                         Unknown  \n",
       "3      Unknown  Hogwarts - Gryffindor                         Unknown  \n",
       "4   Half-blood     Hogwarts - Student                          Barman  "
      ]
     },
     "execution_count": 118,
     "metadata": {},
     "output_type": "execute_result"
    }
   ],
   "source": [
    "df.head()"
   ]
  },
  {
   "cell_type": "code",
   "execution_count": 119,
   "metadata": {},
   "outputs": [
    {
     "name": "stdout",
     "output_type": "stream",
     "text": [
      "<class 'pandas.core.frame.DataFrame'>\n",
      "RangeIndex: 1281 entries, 0 to 1280\n",
      "Data columns (total 8 columns):\n",
      " #   Column        Non-Null Count  Dtype \n",
      "---  ------        --------------  ----- \n",
      " 0   Name          1281 non-null   object\n",
      " 1   Link          1281 non-null   object\n",
      " 2   Descr         1153 non-null   object\n",
      " 3   Gender        1185 non-null   object\n",
      " 4   Species/Race  1281 non-null   object\n",
      " 5   Blood         1281 non-null   object\n",
      " 6   School        1281 non-null   object\n",
      " 7   Profession    1281 non-null   object\n",
      "dtypes: object(8)\n",
      "memory usage: 80.2+ KB\n"
     ]
    }
   ],
   "source": [
    "df.info() # We have 1280 Characters"
   ]
  },
  {
   "cell_type": "code",
   "execution_count": 120,
   "metadata": {},
   "outputs": [
    {
     "data": {
      "text/plain": [
       "Male      790\n",
       "Female    395\n",
       "Name: Gender, dtype: int64"
      ]
     },
     "execution_count": 120,
     "metadata": {},
     "output_type": "execute_result"
    }
   ],
   "source": [
    "df['Gender'].value_counts().head()"
   ]
  },
  {
   "cell_type": "code",
   "execution_count": 121,
   "metadata": {},
   "outputs": [],
   "source": [
    "x = df['Name'].iloc[0]"
   ]
  },
  {
   "cell_type": "code",
   "execution_count": 122,
   "metadata": {},
   "outputs": [
    {
     "data": {
      "text/plain": [
       "'Mrs.'"
      ]
     },
     "execution_count": 122,
     "metadata": {},
     "output_type": "execute_result"
    }
   ],
   "source": [
    "x.split(' ')[0]"
   ]
  },
  {
   "cell_type": "code",
   "execution_count": 123,
   "metadata": {},
   "outputs": [],
   "source": [
    "df['First Name'] = df['Name'].apply(lambda title: title.split(' ')[0])"
   ]
  },
  {
   "cell_type": "code",
   "execution_count": 124,
   "metadata": {},
   "outputs": [
    {
     "data": {
      "text/html": [
       "<div>\n",
       "<style scoped>\n",
       "    .dataframe tbody tr th:only-of-type {\n",
       "        vertical-align: middle;\n",
       "    }\n",
       "\n",
       "    .dataframe tbody tr th {\n",
       "        vertical-align: top;\n",
       "    }\n",
       "\n",
       "    .dataframe thead th {\n",
       "        text-align: right;\n",
       "    }\n",
       "</style>\n",
       "<table border=\"1\" class=\"dataframe\">\n",
       "  <thead>\n",
       "    <tr style=\"text-align: right;\">\n",
       "      <th></th>\n",
       "      <th>Name</th>\n",
       "      <th>Link</th>\n",
       "      <th>Descr</th>\n",
       "      <th>Gender</th>\n",
       "      <th>Species/Race</th>\n",
       "      <th>Blood</th>\n",
       "      <th>School</th>\n",
       "      <th>Profession</th>\n",
       "      <th>First Name</th>\n",
       "    </tr>\n",
       "  </thead>\n",
       "  <tbody>\n",
       "    <tr>\n",
       "      <th>0</th>\n",
       "      <td>Mrs. Abbott</td>\n",
       "      <td>https://www.hp-lexicon.org/character/abbott-fa...</td>\n",
       "      <td>Mrs. Abbott was the mother of Hannah Abbott, a...</td>\n",
       "      <td>Female</td>\n",
       "      <td>witch</td>\n",
       "      <td>Muggle-born</td>\n",
       "      <td>Unknown</td>\n",
       "      <td>Unknown</td>\n",
       "      <td>Mrs.</td>\n",
       "    </tr>\n",
       "    <tr>\n",
       "      <th>1</th>\n",
       "      <td>Hannah Abbott</td>\n",
       "      <td>https://www.hp-lexicon.org/character/abbott-fa...</td>\n",
       "      <td>Hannah Abbott is a Hufflepuff student in Harry...</td>\n",
       "      <td>Female</td>\n",
       "      <td>witch</td>\n",
       "      <td>Half-blood</td>\n",
       "      <td>Hogwarts - Hufflepuff</td>\n",
       "      <td>Landlady of the Leaky Cauldron</td>\n",
       "      <td>Hannah</td>\n",
       "    </tr>\n",
       "    <tr>\n",
       "      <th>2</th>\n",
       "      <td>Abel Treetops</td>\n",
       "      <td>https://www.hp-lexicon.org/character/abel-tree...</td>\n",
       "      <td>Abel Treetops was a wizard from Cincinnati who...</td>\n",
       "      <td>Male</td>\n",
       "      <td>wizard</td>\n",
       "      <td>Unknown</td>\n",
       "      <td>Unknown</td>\n",
       "      <td>Unknown</td>\n",
       "      <td>Abel</td>\n",
       "    </tr>\n",
       "    <tr>\n",
       "      <th>3</th>\n",
       "      <td>Euan Abercrombie</td>\n",
       "      <td>https://www.hp-lexicon.org/character/abercromb...</td>\n",
       "      <td>Euan Abercrombie was a small boy with prominen...</td>\n",
       "      <td>Male</td>\n",
       "      <td>wizard</td>\n",
       "      <td>Unknown</td>\n",
       "      <td>Hogwarts - Gryffindor</td>\n",
       "      <td>Unknown</td>\n",
       "      <td>Euan</td>\n",
       "    </tr>\n",
       "    <tr>\n",
       "      <th>4</th>\n",
       "      <td>Aberforth Dumbledore</td>\n",
       "      <td>https://www.hp-lexicon.org/character/dumbledor...</td>\n",
       "      <td>Aberforth Dumbledore was a tall, thin, grumpy-...</td>\n",
       "      <td>Male</td>\n",
       "      <td>wizard</td>\n",
       "      <td>Half-blood</td>\n",
       "      <td>Hogwarts - Student</td>\n",
       "      <td>Barman</td>\n",
       "      <td>Aberforth</td>\n",
       "    </tr>\n",
       "  </tbody>\n",
       "</table>\n",
       "</div>"
      ],
      "text/plain": [
       "                   Name                                               Link  \\\n",
       "0           Mrs. Abbott  https://www.hp-lexicon.org/character/abbott-fa...   \n",
       "1         Hannah Abbott  https://www.hp-lexicon.org/character/abbott-fa...   \n",
       "2         Abel Treetops  https://www.hp-lexicon.org/character/abel-tree...   \n",
       "3      Euan Abercrombie  https://www.hp-lexicon.org/character/abercromb...   \n",
       "4  Aberforth Dumbledore  https://www.hp-lexicon.org/character/dumbledor...   \n",
       "\n",
       "                                               Descr  Gender Species/Race  \\\n",
       "0  Mrs. Abbott was the mother of Hannah Abbott, a...  Female        witch   \n",
       "1  Hannah Abbott is a Hufflepuff student in Harry...  Female        witch   \n",
       "2  Abel Treetops was a wizard from Cincinnati who...    Male       wizard   \n",
       "3  Euan Abercrombie was a small boy with prominen...    Male       wizard   \n",
       "4  Aberforth Dumbledore was a tall, thin, grumpy-...    Male       wizard   \n",
       "\n",
       "         Blood                 School                      Profession  \\\n",
       "0  Muggle-born                Unknown                         Unknown   \n",
       "1   Half-blood  Hogwarts - Hufflepuff  Landlady of the Leaky Cauldron   \n",
       "2      Unknown                Unknown                         Unknown   \n",
       "3      Unknown  Hogwarts - Gryffindor                         Unknown   \n",
       "4   Half-blood     Hogwarts - Student                          Barman   \n",
       "\n",
       "  First Name  \n",
       "0       Mrs.  \n",
       "1     Hannah  \n",
       "2       Abel  \n",
       "3       Euan  \n",
       "4  Aberforth  "
      ]
     },
     "execution_count": 124,
     "metadata": {},
     "output_type": "execute_result"
    }
   ],
   "source": [
    "df.head()"
   ]
  },
  {
   "cell_type": "code",
   "execution_count": 125,
   "metadata": {},
   "outputs": [],
   "source": [
    "splitted = df['Name'].str.split()\n",
    "df['First_Name'] = splitted.str[0]\n",
    "df['Last Name'] = splitted.str[-1]"
   ]
  },
  {
   "cell_type": "code",
   "execution_count": 126,
   "metadata": {},
   "outputs": [
    {
     "data": {
      "text/html": [
       "<div>\n",
       "<style scoped>\n",
       "    .dataframe tbody tr th:only-of-type {\n",
       "        vertical-align: middle;\n",
       "    }\n",
       "\n",
       "    .dataframe tbody tr th {\n",
       "        vertical-align: top;\n",
       "    }\n",
       "\n",
       "    .dataframe thead th {\n",
       "        text-align: right;\n",
       "    }\n",
       "</style>\n",
       "<table border=\"1\" class=\"dataframe\">\n",
       "  <thead>\n",
       "    <tr style=\"text-align: right;\">\n",
       "      <th></th>\n",
       "      <th>Name</th>\n",
       "      <th>Link</th>\n",
       "      <th>Descr</th>\n",
       "      <th>Gender</th>\n",
       "      <th>Species/Race</th>\n",
       "      <th>Blood</th>\n",
       "      <th>School</th>\n",
       "      <th>Profession</th>\n",
       "      <th>First Name</th>\n",
       "      <th>First_Name</th>\n",
       "      <th>Last Name</th>\n",
       "    </tr>\n",
       "  </thead>\n",
       "  <tbody>\n",
       "    <tr>\n",
       "      <th>0</th>\n",
       "      <td>Mrs. Abbott</td>\n",
       "      <td>https://www.hp-lexicon.org/character/abbott-fa...</td>\n",
       "      <td>Mrs. Abbott was the mother of Hannah Abbott, a...</td>\n",
       "      <td>Female</td>\n",
       "      <td>witch</td>\n",
       "      <td>Muggle-born</td>\n",
       "      <td>Unknown</td>\n",
       "      <td>Unknown</td>\n",
       "      <td>Mrs.</td>\n",
       "      <td>Mrs.</td>\n",
       "      <td>Abbott</td>\n",
       "    </tr>\n",
       "    <tr>\n",
       "      <th>1</th>\n",
       "      <td>Hannah Abbott</td>\n",
       "      <td>https://www.hp-lexicon.org/character/abbott-fa...</td>\n",
       "      <td>Hannah Abbott is a Hufflepuff student in Harry...</td>\n",
       "      <td>Female</td>\n",
       "      <td>witch</td>\n",
       "      <td>Half-blood</td>\n",
       "      <td>Hogwarts - Hufflepuff</td>\n",
       "      <td>Landlady of the Leaky Cauldron</td>\n",
       "      <td>Hannah</td>\n",
       "      <td>Hannah</td>\n",
       "      <td>Abbott</td>\n",
       "    </tr>\n",
       "    <tr>\n",
       "      <th>2</th>\n",
       "      <td>Abel Treetops</td>\n",
       "      <td>https://www.hp-lexicon.org/character/abel-tree...</td>\n",
       "      <td>Abel Treetops was a wizard from Cincinnati who...</td>\n",
       "      <td>Male</td>\n",
       "      <td>wizard</td>\n",
       "      <td>Unknown</td>\n",
       "      <td>Unknown</td>\n",
       "      <td>Unknown</td>\n",
       "      <td>Abel</td>\n",
       "      <td>Abel</td>\n",
       "      <td>Treetops</td>\n",
       "    </tr>\n",
       "    <tr>\n",
       "      <th>3</th>\n",
       "      <td>Euan Abercrombie</td>\n",
       "      <td>https://www.hp-lexicon.org/character/abercromb...</td>\n",
       "      <td>Euan Abercrombie was a small boy with prominen...</td>\n",
       "      <td>Male</td>\n",
       "      <td>wizard</td>\n",
       "      <td>Unknown</td>\n",
       "      <td>Hogwarts - Gryffindor</td>\n",
       "      <td>Unknown</td>\n",
       "      <td>Euan</td>\n",
       "      <td>Euan</td>\n",
       "      <td>Abercrombie</td>\n",
       "    </tr>\n",
       "    <tr>\n",
       "      <th>4</th>\n",
       "      <td>Aberforth Dumbledore</td>\n",
       "      <td>https://www.hp-lexicon.org/character/dumbledor...</td>\n",
       "      <td>Aberforth Dumbledore was a tall, thin, grumpy-...</td>\n",
       "      <td>Male</td>\n",
       "      <td>wizard</td>\n",
       "      <td>Half-blood</td>\n",
       "      <td>Hogwarts - Student</td>\n",
       "      <td>Barman</td>\n",
       "      <td>Aberforth</td>\n",
       "      <td>Aberforth</td>\n",
       "      <td>Dumbledore</td>\n",
       "    </tr>\n",
       "  </tbody>\n",
       "</table>\n",
       "</div>"
      ],
      "text/plain": [
       "                   Name                                               Link  \\\n",
       "0           Mrs. Abbott  https://www.hp-lexicon.org/character/abbott-fa...   \n",
       "1         Hannah Abbott  https://www.hp-lexicon.org/character/abbott-fa...   \n",
       "2         Abel Treetops  https://www.hp-lexicon.org/character/abel-tree...   \n",
       "3      Euan Abercrombie  https://www.hp-lexicon.org/character/abercromb...   \n",
       "4  Aberforth Dumbledore  https://www.hp-lexicon.org/character/dumbledor...   \n",
       "\n",
       "                                               Descr  Gender Species/Race  \\\n",
       "0  Mrs. Abbott was the mother of Hannah Abbott, a...  Female        witch   \n",
       "1  Hannah Abbott is a Hufflepuff student in Harry...  Female        witch   \n",
       "2  Abel Treetops was a wizard from Cincinnati who...    Male       wizard   \n",
       "3  Euan Abercrombie was a small boy with prominen...    Male       wizard   \n",
       "4  Aberforth Dumbledore was a tall, thin, grumpy-...    Male       wizard   \n",
       "\n",
       "         Blood                 School                      Profession  \\\n",
       "0  Muggle-born                Unknown                         Unknown   \n",
       "1   Half-blood  Hogwarts - Hufflepuff  Landlady of the Leaky Cauldron   \n",
       "2      Unknown                Unknown                         Unknown   \n",
       "3      Unknown  Hogwarts - Gryffindor                         Unknown   \n",
       "4   Half-blood     Hogwarts - Student                          Barman   \n",
       "\n",
       "  First Name First_Name    Last Name  \n",
       "0       Mrs.       Mrs.       Abbott  \n",
       "1     Hannah     Hannah       Abbott  \n",
       "2       Abel       Abel     Treetops  \n",
       "3       Euan       Euan  Abercrombie  \n",
       "4  Aberforth  Aberforth   Dumbledore  "
      ]
     },
     "execution_count": 126,
     "metadata": {},
     "output_type": "execute_result"
    }
   ],
   "source": [
    "df.head()"
   ]
  },
  {
   "cell_type": "code",
   "execution_count": 127,
   "metadata": {},
   "outputs": [],
   "source": [
    "del df['First_Name']"
   ]
  },
  {
   "cell_type": "code",
   "execution_count": 169,
   "metadata": {},
   "outputs": [
    {
     "data": {
      "text/html": [
       "<div>\n",
       "<style scoped>\n",
       "    .dataframe tbody tr th:only-of-type {\n",
       "        vertical-align: middle;\n",
       "    }\n",
       "\n",
       "    .dataframe tbody tr th {\n",
       "        vertical-align: top;\n",
       "    }\n",
       "\n",
       "    .dataframe thead th {\n",
       "        text-align: right;\n",
       "    }\n",
       "</style>\n",
       "<table border=\"1\" class=\"dataframe\">\n",
       "  <thead>\n",
       "    <tr style=\"text-align: right;\">\n",
       "      <th></th>\n",
       "      <th>Name</th>\n",
       "      <th>Link</th>\n",
       "      <th>Descr</th>\n",
       "      <th>Gender</th>\n",
       "      <th>Species/Race</th>\n",
       "      <th>Blood</th>\n",
       "      <th>School</th>\n",
       "      <th>Profession</th>\n",
       "      <th>First Name</th>\n",
       "      <th>Last Name</th>\n",
       "    </tr>\n",
       "  </thead>\n",
       "  <tbody>\n",
       "    <tr>\n",
       "      <th>1276</th>\n",
       "      <td>Yusuf Kama</td>\n",
       "      <td>https://www.hp-lexicon.org/character/yusef-kama/</td>\n",
       "      <td>Yusuf Kama was a French wizard of Senegalese a...</td>\n",
       "      <td>Male</td>\n",
       "      <td>human</td>\n",
       "      <td>Pure blood</td>\n",
       "      <td>Unknown</td>\n",
       "      <td>Unknown</td>\n",
       "      <td>Yusuf</td>\n",
       "      <td>Kama</td>\n",
       "    </tr>\n",
       "    <tr>\n",
       "      <th>1277</th>\n",
       "      <td>Yvonne</td>\n",
       "      <td>https://www.hp-lexicon.org/character/yvonne/</td>\n",
       "      <td>Yvonne was a friend of Petunia Dursley who was...</td>\n",
       "      <td>Female</td>\n",
       "      <td>muggle</td>\n",
       "      <td>Muggle</td>\n",
       "      <td>Unknown</td>\n",
       "      <td>Unknown</td>\n",
       "      <td>Yvonne</td>\n",
       "      <td>Yvonne</td>\n",
       "    </tr>\n",
       "    <tr>\n",
       "      <th>1278</th>\n",
       "      <td>Zacharias Smith's father</td>\n",
       "      <td>https://www.hp-lexicon.org/character/zacharias...</td>\n",
       "      <td>The father of Hogwarts student Zacharias Smith...</td>\n",
       "      <td>Male</td>\n",
       "      <td>wizard</td>\n",
       "      <td>Unknown</td>\n",
       "      <td>Unknown</td>\n",
       "      <td>Unknown</td>\n",
       "      <td>Zacharias</td>\n",
       "      <td>father</td>\n",
       "    </tr>\n",
       "    <tr>\n",
       "      <th>1279</th>\n",
       "      <td>Zograf</td>\n",
       "      <td>https://www.hp-lexicon.org/character/zograf/</td>\n",
       "      <td>Zograf played Keeper for the Bulgarian Nationa...</td>\n",
       "      <td>NaN</td>\n",
       "      <td>wizard</td>\n",
       "      <td>Unknown</td>\n",
       "      <td>Unknown</td>\n",
       "      <td>Quidditch player (Keeper)</td>\n",
       "      <td>Zograf</td>\n",
       "      <td>Zograf</td>\n",
       "    </tr>\n",
       "    <tr>\n",
       "      <th>1280</th>\n",
       "      <td>Zonko</td>\n",
       "      <td>https://www.hp-lexicon.org/character/zonko/</td>\n",
       "      <td>Founder(?) of Zonko’s Joke Shop. Possibly a re...</td>\n",
       "      <td>NaN</td>\n",
       "      <td>unknown</td>\n",
       "      <td>Unknown</td>\n",
       "      <td>Unknown</td>\n",
       "      <td>Unknown</td>\n",
       "      <td>Zonko</td>\n",
       "      <td>Zonko</td>\n",
       "    </tr>\n",
       "  </tbody>\n",
       "</table>\n",
       "</div>"
      ],
      "text/plain": [
       "                          Name  \\\n",
       "1276                Yusuf Kama   \n",
       "1277                    Yvonne   \n",
       "1278  Zacharias Smith's father   \n",
       "1279                    Zograf   \n",
       "1280                     Zonko   \n",
       "\n",
       "                                                   Link  \\\n",
       "1276   https://www.hp-lexicon.org/character/yusef-kama/   \n",
       "1277       https://www.hp-lexicon.org/character/yvonne/   \n",
       "1278  https://www.hp-lexicon.org/character/zacharias...   \n",
       "1279       https://www.hp-lexicon.org/character/zograf/   \n",
       "1280        https://www.hp-lexicon.org/character/zonko/   \n",
       "\n",
       "                                                  Descr  Gender Species/Race  \\\n",
       "1276  Yusuf Kama was a French wizard of Senegalese a...    Male        human   \n",
       "1277  Yvonne was a friend of Petunia Dursley who was...  Female       muggle   \n",
       "1278  The father of Hogwarts student Zacharias Smith...    Male       wizard   \n",
       "1279  Zograf played Keeper for the Bulgarian Nationa...     NaN       wizard   \n",
       "1280  Founder(?) of Zonko’s Joke Shop. Possibly a re...     NaN      unknown   \n",
       "\n",
       "           Blood   School                 Profession First Name Last Name  \n",
       "1276  Pure blood  Unknown                    Unknown      Yusuf      Kama  \n",
       "1277      Muggle  Unknown                    Unknown     Yvonne    Yvonne  \n",
       "1278     Unknown  Unknown                    Unknown  Zacharias    father  \n",
       "1279     Unknown  Unknown  Quidditch player (Keeper)     Zograf    Zograf  \n",
       "1280     Unknown  Unknown                    Unknown      Zonko     Zonko  "
      ]
     },
     "execution_count": 169,
     "metadata": {},
     "output_type": "execute_result"
    }
   ],
   "source": [
    "df.tail()"
   ]
  },
  {
   "cell_type": "markdown",
   "metadata": {},
   "source": [
    "### How many people do have the name 'Weasley'"
   ]
  },
  {
   "cell_type": "code",
   "execution_count": 129,
   "metadata": {},
   "outputs": [
    {
     "data": {
      "text/plain": [
       "17"
      ]
     },
     "execution_count": 129,
     "metadata": {},
     "output_type": "execute_result"
    }
   ],
   "source": [
    "len(df[df['Last Name'] == 'Weasley'].value_counts())"
   ]
  },
  {
   "cell_type": "markdown",
   "metadata": {},
   "source": [
    "### Showing the gender in a plot"
   ]
  },
  {
   "cell_type": "code",
   "execution_count": 134,
   "metadata": {},
   "outputs": [
    {
     "data": {
      "text/plain": [
       "<AxesSubplot:xlabel='Gender', ylabel='count'>"
      ]
     },
     "execution_count": 134,
     "metadata": {},
     "output_type": "execute_result"
    },
    {
     "data": {
      "image/png": "[encoded data removed]",
      "text/plain": [
       "<Figure size 432x288 with 1 Axes>"
      ]
     },
     "metadata": {
      "needs_background": "light"
     },
     "output_type": "display_data"
    }
   ],
   "source": [
    "sns.countplot(x='Gender', data=df)"
   ]
  },
  {
   "cell_type": "markdown",
   "metadata": {},
   "source": [
    "### Showing the Gender breakdown between the schools"
   ]
  },
  {
   "cell_type": "code",
   "execution_count": 142,
   "metadata": {},
   "outputs": [
    {
     "data": {
      "text/plain": [
       "<matplotlib.legend.Legend at 0x7fa27c5ecfa0>"
      ]
     },
     "execution_count": 142,
     "metadata": {},
     "output_type": "execute_result"
    },
    {
     "data": {
      "image/png": "[encoded data removed]",
      "text/plain": [
       "<Figure size 432x288 with 1 Axes>"
      ]
     },
     "metadata": {
      "needs_background": "light"
     },
     "output_type": "display_data"
    }
   ],
   "source": [
    "sns.countplot(x='Gender', data = df, hue='School', palette = 'Set2')\n",
    "plt.legend(bbox_to_anchor=(1.05, 1), loc = 2, borderaxespad=0)"
   ]
  },
  {
   "cell_type": "markdown",
   "metadata": {},
   "source": [
    "### Count Gender"
   ]
  },
  {
   "cell_type": "code",
   "execution_count": 157,
   "metadata": {},
   "outputs": [],
   "source": [
    "count_male = df[df[\"Gender\"] == \"Male\"].count()[0]"
   ]
  },
  {
   "cell_type": "code",
   "execution_count": 158,
   "metadata": {},
   "outputs": [
    {
     "data": {
      "text/plain": [
       "790"
      ]
     },
     "execution_count": 158,
     "metadata": {},
     "output_type": "execute_result"
    }
   ],
   "source": [
    "count_male"
   ]
  },
  {
   "cell_type": "code",
   "execution_count": 163,
   "metadata": {},
   "outputs": [],
   "source": [
    "count_female = df[df[\"Gender\"] == \"Female\"].count()[0]"
   ]
  },
  {
   "cell_type": "code",
   "execution_count": 164,
   "metadata": {},
   "outputs": [
    {
     "data": {
      "text/plain": [
       "395"
      ]
     },
     "execution_count": 164,
     "metadata": {},
     "output_type": "execute_result"
    }
   ],
   "source": [
    "count_female"
   ]
  },
  {
   "cell_type": "markdown",
   "metadata": {},
   "source": [
    "### Count Blood"
   ]
  },
  {
   "cell_type": "code",
   "execution_count": 165,
   "metadata": {},
   "outputs": [],
   "source": [
    "count_MuggleBorn = df[df[\"Blood\"] == \"Muggle-born\"].count()[0]"
   ]
  },
  {
   "cell_type": "code",
   "execution_count": 166,
   "metadata": {},
   "outputs": [
    {
     "data": {
      "text/plain": [
       "16"
      ]
     },
     "execution_count": 166,
     "metadata": {},
     "output_type": "execute_result"
    }
   ],
   "source": [
    "count_MuggleBorn"
   ]
  },
  {
   "cell_type": "code",
   "execution_count": 167,
   "metadata": {},
   "outputs": [],
   "source": [
    "count_HalfBlood = df[df[\"Blood\"] == \"Half-blood\"].count()[0]"
   ]
  },
  {
   "cell_type": "code",
   "execution_count": 168,
   "metadata": {},
   "outputs": [
    {
     "data": {
      "text/plain": [
       "43"
      ]
     },
     "execution_count": 168,
     "metadata": {},
     "output_type": "execute_result"
    }
   ],
   "source": [
    "count_HalfBlood"
   ]
  },
  {
   "cell_type": "code",
   "execution_count": 170,
   "metadata": {},
   "outputs": [],
   "source": [
    "count_PureBlood = df[df[\"Blood\"] == \"Pure blood\"].count()[0]"
   ]
  },
  {
   "cell_type": "code",
   "execution_count": 171,
   "metadata": {},
   "outputs": [
    {
     "data": {
      "text/plain": [
       "124"
      ]
     },
     "execution_count": 171,
     "metadata": {},
     "output_type": "execute_result"
    }
   ],
   "source": [
    "count_PureBlood"
   ]
  },
  {
   "cell_type": "markdown",
   "metadata": {},
   "source": [
    "### Create graphs"
   ]
  },
  {
   "cell_type": "code",
   "execution_count": 174,
   "metadata": {},
   "outputs": [],
   "source": [
    "byMagic = df.groupby('Blood').count()"
   ]
  },
  {
   "cell_type": "code",
   "execution_count": 175,
   "metadata": {},
   "outputs": [
    {
     "data": {
      "text/plain": [
       "<AxesSubplot:ylabel='Blood'>"
      ]
     },
     "execution_count": 175,
     "metadata": {},
     "output_type": "execute_result"
    },
    {
     "data": {
      "image/png": "[encoded data removed]",
      "text/plain": [
       "<Figure size 720x360 with 2 Axes>"
      ]
     },
     "metadata": {
      "needs_background": "light"
     },
     "output_type": "display_data"
    }
   ],
   "source": [
    "plt.figure(figsize=(10,5))\n",
    "sns.heatmap(byMagic)"
   ]
  },
  {
   "cell_type": "code",
   "execution_count": 186,
   "metadata": {},
   "outputs": [],
   "source": [
    "byMagican = df.groupby(by=['Blood', 'Gender']).count()['School'].unstack()"
   ]
  },
  {
   "cell_type": "code",
   "execution_count": 187,
   "metadata": {},
   "outputs": [
    {
     "data": {
      "text/plain": [
       "<AxesSubplot:xlabel='Gender', ylabel='Blood'>"
      ]
     },
     "execution_count": 187,
     "metadata": {},
     "output_type": "execute_result"
    },
    {
     "data": {
      "image/png": "[encoded data removed]",
      "text/plain": [
       "<Figure size 1008x432 with 2 Axes>"
      ]
     },
     "metadata": {
      "needs_background": "light"
     },
     "output_type": "display_data"
    }
   ],
   "source": [
    "plt.figure(figsize=(14,6))\n",
    "sns.heatmap(byMagican)"
   ]
  },
  {
   "cell_type": "code",
   "execution_count": 191,
   "metadata": {},
   "outputs": [
    {
     "data": {
      "text/plain": [
       "<seaborn.axisgrid.PairGrid at 0x7fa26a609580>"
      ]
     },
     "execution_count": 191,
     "metadata": {},
     "output_type": "execute_result"
    },
    {
     "data": {
      "image/png": "[encoded data removed]",
      "text/plain": [
       "<Figure size 1620x1620 with 90 Axes>"
      ]
     },
     "metadata": {
      "needs_background": "light"
     },
     "output_type": "display_data"
    }
   ],
   "source": [
    "sns.pairplot(byMagic)"
   ]
  },
  {
   "cell_type": "code",
   "execution_count": 219,
   "metadata": {},
   "outputs": [
    {
     "data": {
      "image/png": "[encoded data removed]",
      "text/plain": [
       "<Figure size 2160x360 with 1 Axes>"
      ]
     },
     "metadata": {
      "needs_background": "light"
     },
     "output_type": "display_data"
    }
   ],
   "source": [
    "sns.stripplot(x='School', y='Blood', data=df, color='black', size = 5)\n",
    "plt.gca().set_xlim(0,10)\n",
    "plt.gcf().set_size_inches(30, 5)"
   ]
  },
  {
   "cell_type": "code",
   "execution_count": 222,
   "metadata": {},
   "outputs": [],
   "source": [
    "by_school = df.groupby(by=['Gender', 'School']).count()['Blood'].unstack()"
   ]
  },
  {
   "cell_type": "code",
   "execution_count": 226,
   "metadata": {},
   "outputs": [
    {
     "data": {
      "text/plain": [
       "<AxesSubplot:xlabel='School', ylabel='Gender'>"
      ]
     },
     "execution_count": 226,
     "metadata": {},
     "output_type": "execute_result"
    },
    {
     "data": {
      "image/png": "[encoded data removed]",
      "text/plain": [
       "<Figure size 432x288 with 2 Axes>"
      ]
     },
     "metadata": {
      "needs_background": "light"
     },
     "output_type": "display_data"
    }
   ],
   "source": [
    "sns.heatmap(by_school, cmap=\"coolwarm\", annot=True)"
   ]
  },
  {
   "cell_type": "markdown",
   "metadata": {},
   "source": [
    "### Checking out some other informations"
   ]
  },
  {
   "cell_type": "code",
   "execution_count": 228,
   "metadata": {},
   "outputs": [
    {
     "data": {
      "text/plain": [
       "Unknown                                    1024\n",
       "Hogwarts - Slytherin                         54\n",
       "Hogwarts - Gryffindor                        47\n",
       "Hogwarts - Student                           35\n",
       "Hogwarts - Staff                             34\n",
       "Hogwarts - Ravenclaw                         31\n",
       "Hogwarts - Hufflepuff                        17\n",
       "Mahoutokouro                                  7\n",
       "Hogwarts - Staff\\Hogwarts - Gryffindor        5\n",
       "Hogwarts - Staff\\Hogwarts - Slytherin         4\n",
       "Beauxbatons - Student                         4\n",
       "Durmstrang - Student                          3\n",
       "Castelobruxo                                  3\n",
       "Durmstrang - Staff                            3\n",
       "Hogwarts - Staff\\Hogwarts - Ravenclaw         2\n",
       "Hogwarts - Staff\\Hogwarts - Hufflepuff        2\n",
       "Ilvermorny - Puckwidgie                       1\n",
       "Ilvermorny - Horned Serpent                   1\n",
       "Ilvermorny - Thunderbird                      1\n",
       "Uagadou                                       1\n",
       "Beauxbatons - Staff                           1\n",
       "Ilvermorny - Wampus                           1\n",
       "Name: School, dtype: int64"
      ]
     },
     "execution_count": 228,
     "metadata": {},
     "output_type": "execute_result"
    }
   ],
   "source": [
    "df['School'].value_counts()"
   ]
  },
  {
   "cell_type": "code",
   "execution_count": 231,
   "metadata": {},
   "outputs": [
    {
     "data": {
      "text/plain": [
       "array(['Abbott', 'Treetops', 'Abercrombie', 'Dumbledore', 'Abernathy',\n",
       "       'Peasegood', 'Potter', 'Malfoy', 'Tolliver', 'Ackerley',\n",
       "       'Waffling', 'Pucey', 'Tutley', 'wizards', 'Chubb', 'Timms',\n",
       "       'Fontaine', 'Agnes', 'Agrippa', 'Kiely', 'Lynch', 'Maddock',\n",
       "       'Gumboil', 'Moody', 'peasant', 'Grunnion', 'Toothill', 'Boot',\n",
       "       'Jorkins', 'Runcorn', 'Tillyman', 'Alderton', 'Carrow',\n",
       "       'Cattermole', 'Awful', 'Bashir', 'Longbottom', 'Spinnet', 'Okoye',\n",
       "       'Almeida', 'Sawbridge', 'Alonso', 'Black', 'Altheda', 'Lestoat',\n",
       "       'Amata', 'Flume', 'Bones', 'Diggory', 'Benson', 'Anderson',\n",
       "       'Magic', 'Kirke', 'Tonks', 'Invincible', 'Johnson', 'Peel',\n",
       "       'Buchanan', 'Campbell', 'Fleet', 'McMangus', 'Anonymous',\n",
       "       'Goldstein', 'Peverell', 'Dolohov', 'Antonio', 'Delacour',\n",
       "       'Pringle', 'Figg', 'Aragog', 'Meliflua', 'Evermonde', 'Archie',\n",
       "       'Aymslowe', '(1884)', '(1901)', 'Arcus', 'Filch', 'Pyrites',\n",
       "       'Twelvetrees', 'Philpott', 'Dippet', 'warlock', 'Arnold', 'Guzman',\n",
       "       'Moe', 'Gonzales', 'Jigger', 'Lufkin', 'Lawson', 'Panel',\n",
       "       'Weasley', 'Cephalopos', 'Asha', 'Greengrass', 'Wizard', 'Aubrey',\n",
       "       'Pye', 'Rookwood', 'Worme', 'Muriel', 'Dursley', 'Sinistra',\n",
       "       'Avery', 'Akingbade', 'Babayaga', 'Rabbitty', 'Sr.', 'Bagman',\n",
       "       'Bagnold', 'Bagshot', 'Bailey', 'Stranger', 'Banshee', 'Bane',\n",
       "       'Barbary', 'Barboza', 'Barebone', 'Family', 'Bargeworthy',\n",
       "       'Barker', 'Barmy', 'Cuffe', 'Deverill', 'Finkley', 'Snell',\n",
       "       'Barny', 'Fruitbat', 'Ryan', 'Jr.', 'Baruffio', 'Basil', 'Flack',\n",
       "       'Horton', 'Babbling', 'Baverstock', 'Bloxam', 'Marjoribanks',\n",
       "       'Bard', 'Beery', 'Belby', 'Belcher', 'Bell', 'Benedict', 'Dourado',\n",
       "       'Fenwick', 'Williams', 'Bernadette', 'Pillsworth', 'cousin',\n",
       "       'Roche', 'Bott', 'Higgs', 'Pensées-Profondes', 'BF', 'Stubbs',\n",
       "       'Bingley', 'Binky', 'Binns', 'Birch', 'Bishop', 'Lestrange',\n",
       "       '(1889)', 'Blay', 'Zabini', 'mother', 'Blancheflower', 'Blane',\n",
       "       'Stalk', 'Blenkinsop', 'Bletchley', 'Bloncourt', 'Baron', 'Bludd',\n",
       "       'Town', 'Ollerton', 'Bobbin', 'Hitchens', 'Ogden', 'Bode',\n",
       "       'Canterbury', 'Levski', 'Bogrod', 'Boigny', 'Bole', 'Bolobolo',\n",
       "       'Wójcik', 'Bonhabille', 'Boniface', 'Boothby', 'Borage', 'Borgin',\n",
       "       'Bewildered', 'Vulchanov', 'Wright', 'Bozo', 'Bradley', 'Bragge',\n",
       "       'Braithwaite', 'Bloodthirsty', 'Brand', 'III', 'Gadwilde',\n",
       "       'Wenlock', 'O’Brien', 'Broadmoor', 'Boss-Eyed', 'Brown', 'Schmidt',\n",
       "       'Scrimgeour', 'Bruunhart', 'Buckbeak', 'Cooper', 'Budge', 'Bundy',\n",
       "       'Budgie', 'Bunty', 'Burbage', 'Muldoon', 'Burke', 'Cadwallader',\n",
       "       'Calchas', 'Nott', 'Capper', 'Dearborn', 'Lopez', 'Pinkstone',\n",
       "       'Carmichael', 'Carpe', 'Crouch', 'Trelawney', 'Vablatsky',\n",
       "       'McCormack', 'Spangle', 'Cecilia', 'Cecily', 'Warbeck', 'Chambers',\n",
       "       'Chang', 'Chapman', 'Wilkinson', 'Oldridge', 'Chittock', 'Chorley',\n",
       "       'One', 'Churchill', 'Harkiss', 'Circe', 'Clagg', 'Hyppolite',\n",
       "       'Tremblay', 'Ptolemy', 'Clearwater', 'Cliodna', 'Clodoaldo',\n",
       "       'Cloggs', 'Coelho', 'Cole', 'Creevey', 'Fubster', 'Comstock',\n",
       "       'Connolly', 'House', 'Coopey', 'Coote', 'Yaxley', 'Misericordia',\n",
       "       'McLeod', 'McLaggen', 'Fudge', 'Corner', 'Gaunt', 'Cotton',\n",
       "       'Drakul', 'accountant', 'Cracknell', 'Cragg', 'Cresswell', 'sons',\n",
       "       'Crickerly', 'Crimp', 'Croaker', 'Crockford', 'Cronk', 'Crook',\n",
       "       'Crookshanks', 'Crowdy', 'Mockridge', 'Cyclops', 'Youdle', 'Pips',\n",
       "       'Dagworth-Granger', 'Llewellyn', 'Dodderidge', 'Hookum',\n",
       "       'Pennifold', 'Rowle', 'Smackhammer', 'Lord', 'Floyd', \"O'Hare\",\n",
       "       'Gudgeon', 'Davies', 'Dawlish', 'Thomas', 'Death', 'Diggle',\n",
       "       'Delaney-Podmore', 'Lapin', 'Delphi', 'Robins', 'Prod', 'Nick',\n",
       "       'Wiggleswade', 'Dennis', 'Moon', 'Derek', 'Derrick', 'Derwent',\n",
       "       'Shimpling', 'Whitehorn', 'Fortescue', '(Goshawk?)', 'Diaz',\n",
       "       'Dimitrov', 'Dingle', 'Dobbs', 'Dobby', 'Dirk', 'Doge', 'Umbridge',\n",
       "       'Tremlett', 'Meadowes', 'Wellbeloved', 'Purkiss', 'Dorkins',\n",
       "       'Dorny', 'Dot', 'Dougal', 'McBride', 'McGregor', 'Douglas',\n",
       "       'Draganov', 'Despard', 'Gorgovitch', 'Filibuster', 'Ubbly',\n",
       "       'Rosier', 'McPhail', 'Dugard', 'Dukelow', 'Oglethorpe', 'Dunstan',\n",
       "       'Dupont', 'Marwood', 'Furmage', 'Yen', 'Ugly', 'Paunchley',\n",
       "       \"d'Eath\", 'Eberstadt', 'Stroulger', 'Edgecombe', 'Gaddlegate',\n",
       "       'Lupin', 'Egregious', 'Puffett', 'Hobday', 'Snape', 'Ekrizdis',\n",
       "       'Elsrickle', 'Worple', 'Branstone', 'Eager', 'Eliana', 'Grimstone',\n",
       "       'Story', 'McGilliguddy', 'Smudgling', 'I', 'Elkins', '(1850)',\n",
       "       'Sirius)', 'Guffy', 'Ketteridge', 'Ellerby', 'Smethwyck',\n",
       "       'Dembélé', 'Midgeon', 'Urquart', 'Elsie', 'Evil', 'Switch',\n",
       "       'Rappaport', 'Vance', 'Smeek', 'Equiano', 'Stainwright', 'Munch',\n",
       "       'Whalley', 'Macmillan', 'Prang', 'Errol', 'Esposito', 'Mordaunt',\n",
       "       'Ever-Ready', 'Jenkins', 'Hicks', 'Murray', 'Mole', 'Orpington',\n",
       "       'Evans', 'Everard', 'Prewett', 'Watkins', 'Aesalon', 'Fancourt',\n",
       "       'Fang', 'Spavin', 'Farley', 'Friar', 'Lady', 'Faust', 'Fawcett',\n",
       "       'Fawkes', 'Fawley', 'Summerbee', 'Greyback', 'Jägendorf', 'Fergus',\n",
       "       'LaFolle', 'Quigley', 'Finch-Fletchley', 'Fearless', 'Finn',\n",
       "       'Finnigan', 'Firenze', 'Fischer', \"O'Flaherty\", 'Flamel',\n",
       "       'Fleetwood', 'Fleming', 'Fletcher', 'Fletwock', 'Flint',\n",
       "       'Flitwick', 'Florence', 'Flores', 'Fluffy', 'Flurry', 'Frank',\n",
       "       'Bryce', '(II)', 'Frick', 'Fridwulfa', 'Fearful', 'Truman',\n",
       "       'Merrythought', 'Gambol', 'Gamp', 'Ollivander', 'Lünger',\n",
       "       'Shingleton', 'Robards', 'Hooper', 'Smyth', 'Xenakis', 'Zdravko',\n",
       "       'Curd', 'Keddle', 'nuns', 'Gibbon', 'Crumb', 'Flatworthy',\n",
       "       'Wimple', 'Lockhart', 'Peakes', 'Hipworth', 'Gnarlak', 'Godelot',\n",
       "       'Golgomath', 'Goliath', 'Golpalott', 'Oliphant', 'Kneen', 'Gordon',\n",
       "       'Gore', 'Gornuk', '(1921-)', 'Pritchard', 'Granger',\n",
       "       'Granger-Weasley', 'Graves', 'Grawp', 'Enid', 'Humberto', 'Algie',\n",
       "       'chappie', 'Gregorovitch', 'Goyle', 'Smarmy', 'Catchlove',\n",
       "       'Griffiths', 'Grimmson', 'Grimsditch', 'Grindelwald', 'Gringott',\n",
       "       'Griphook', 'Marchbanks', 'Hurtz', 'Stump', 'Institute', 'Grozda',\n",
       "       'Grubbly-Plank', 'wizard', 'Rufford', 'Gryffindor', 'Grymm',\n",
       "       'Gulch', 'Pokeby', 'Gorsemoor', 'Gurg', 'Lochrin', 'Morgan',\n",
       "       'Gwenog', 'Jones', 'father', 'Quince', 'MacFarlan', 'Humble',\n",
       "       'Cockleford', 'Augurey', 'Stinchcombe', 'Munter', 'Minchum',\n",
       "       'Skively', 'Harper', 'Ridgebit', 'Mostafa', 'Sweeting', 'Lamont',\n",
       "       'Hedwig', 'Ravenclaw', 'Willis', 'Hyslop', 'Weiss', 'Barnton',\n",
       "       'Woodcroft', 'Henry', 'VI', 'Shaw', 'Smith', 'Spleen', 'Hereward',\n",
       "       'Junker', 'Wintringham', 'Hermes', 'Foul', 'Starkey', 'Bayliss',\n",
       "       'Higgins', 'Horny-Handed', 'Hokey', 'Wagstaff', 'Hongo', 'Honoria',\n",
       "       'Nutcombe', 'Hooch', 'Hopkirk', 'Hoppy', 'Hopwood', 'Slughorn',\n",
       "       'Hornby', 'Milliphutt', 'Hufflepuff', 'Idlewind', 'Oakby', 'Rice',\n",
       "       'Wildsmith', 'Tuft', 'Karkaroff', 'Illyius', 'Iambic', 'Imago',\n",
       "       'Kneedander', 'Leprechauns', 'Crabbe', 'Pince', 'Warble', 'Rose',\n",
       "       'McGonagall', 'Ross', 'Sayre', 'Ivanova', 'Popa', 'Dillonsby',\n",
       "       'Sloper', 'Jackson', 'Kowalski', 'Miskine', 'Steward', 'Thickey',\n",
       "       'Hobart', 'Jauncey', 'singer', 'Jernigan', 'Jewkes', 'McGuffin',\n",
       "       'Sykes', 'Jonker', 'Jolicoeur', 'Jordan', 'Wadcock', 'Calderon',\n",
       "       'Wronski', 'Snuka', 'Sankara', 'Plunkett', 'Jugson', 'Pilliwickle',\n",
       "       'Kama', 'Karkus', 'Wang', 'Kegg', 'Towler', 'Whisp', 'Kettleburn',\n",
       "       'Kevin', 'Entwhistle', 'parents', 'Whitby', 'Arthur',\n",
       "       'Shacklebolt', 'Duke', 'Knatchbull', 'Krafft', 'Krall', 'Kreacher',\n",
       "       'Kristoffersen', 'Krum', 'Kurosawa', 'Lanky', 'Zamojski',\n",
       "       'Sanguina', 'Grieve', 'Lancelot', 'Madley', 'Montmorency', 'Leach',\n",
       "       'Leanne', 'Paraison', 'Spencer-Moon', 'Smethwyk', 'Somnolens',\n",
       "       'Monkstanley', 'Molesby', 'Turpin', 'Li', 'Livius', 'McLaird',\n",
       "       'Scamander', 'North', 'Palmerston', 'Withers', 'Voldemort',\n",
       "       'Lovegood', 'Loxias', 'Picquery', 'Volpi', '(I)', 'Millefeuille',\n",
       "       'Lundekvam', 'Macdougal', 'Macduff', 'MacDuff', 'clan', 'Macnair',\n",
       "       'MacTavish', 'Mintumble', 'Marsh', 'Nettles', 'Primpernelle',\n",
       "       'Puddifoot', 'Rosmerta', 'Zhou', 'Maeve', 'Mafalda', 'Macdonald',\n",
       "       'Magorian', 'Malcolm', 'Baddock', 'Malécrit', 'Malkin', 'Twiddle',\n",
       "       'Malone', 'Brocklehurst', 'Marius', 'McKinnon', 'Marlow',\n",
       "       'husband', 'Miggs', 'MacDonald', 'Mason', 'Mauler', 'Maxime',\n",
       "       'McClaggan', 'Clan', 'McDonald', 'Reverend', 'McQuoid', 'McTavish',\n",
       "       'Melusine', 'Ojukwu', 'Wardwell', 'Merlin', 'Malicious', 'Metaxas',\n",
       "       'Bulstrode', 'Milly', '1800)', 'Strout', 'Radford', 'Rabnott',\n",
       "       'Wotorson', 'Wilkins', 'Montague', 'Knightly', 'sisters',\n",
       "       'Moonshine', 'professor)', 'soothsayer)', 'Fleabert', 'Moran',\n",
       "       'Fay', 'Morholt', 'Morrigan', 'Mortlake', 'Mosag', 'Hubbard',\n",
       "       'Mulciber', 'Mullet', 'Mumps', 'Bonham', 'Murcus', 'Barkwith',\n",
       "       'Sylvanus', 'Otherhaus', 'Wagtail', 'Warren', 'Myrtle', 'Nagel',\n",
       "       'Nagini', 'Nagnok', 'Singh', 'Nenad', 'Vulchanova', 'Grandad',\n",
       "       'Ponika', 'Vassileva', 'Norbert/Norberta', 'Sato', 'Norris',\n",
       "       'Twonk', 'Violent', 'Potts', 'Obermeier', 'Obalonsk)', 'Pepper',\n",
       "       'Oddpick', 'Spillum', 'Hero', 'Ogg', 'Olaf', 'brother', 'Rivers',\n",
       "       'Wood', 'Omnioculars', 'Oona', 'Nuttley', 'Quirke', 'Thruston',\n",
       "       'Osbert', 'Beamish', 'Cauldwell', 'Parkinson', 'Paracelsus',\n",
       "       'Parkin', 'Patil', 'Stimpson', 'Patrick', 'Man', 'Pauncefoot',\n",
       "       'Paws', 'Payne', 'Peeves', 'Pennyfeather', 'Penrose', 'Perkins',\n",
       "       'Perks', 'Porskoff', 'Pettigrew', 'Pfeffer', 'Spore', 'Pickett',\n",
       "       'Bonaccord', 'Polkiss', 'Pigwidgeon', 'Pinky', 'Thicknesse',\n",
       "       'guard', 'Platt', 'Poke', 'Poliakoff', 'Sprout', 'Poppy',\n",
       "       'Pomfrey', 'Po', 'Tout', 'Fleamont', 'Prendergast', 'Prentice',\n",
       "       'Egg', 'Quirrell', 'Tofty', 'Vector', 'Proudfoot', 'Prudence',\n",
       "       'Qarase', 'Quahog', 'Victoria', 'Trimble', 'Umfraville',\n",
       "       'Harcourt', 'Rackharrow', 'Raczidian', 'Pittiman', 'Radulf',\n",
       "       'Santos', 'Pigeon-Toed', 'First', 'Keitch', 'Spudmore', 'Rapier',\n",
       "       'Rastrick', 'Zaghloul', 'Receptionist', 'Red', '(1906)', 'Riddle',\n",
       "       'Ripper', 'Skeeter', 'River', 'Hilliard', 'Roberts', 'children',\n",
       "       'Pontner', 'Rodent', 'Plumpton', 'Vane', 'Romulus', 'Ronan',\n",
       "       'Wazlib', 'Bungs', 'Zeller', 'Rowling', 'Royal', 'Hagrid', 'Ruby',\n",
       "       'Spielman', 'Brookstanton', 'Yamaguchi', 'Tugwood', 'Sam',\n",
       "       'Wiblin', 'Sanguini', 'Sapworthy', 'Savage', 'Scabbers', 'Scabior',\n",
       "       'Scarpin', 'Scrivenshaft', 'Selwyn', 'Fisher', 'Wolfe', 'Shingo',\n",
       "       'Todd', 'Silva', 'Astolfi', 'Cadogan', 'Varney', '(1845)',\n",
       "       '(1877)', 'Luckless', 'Skender', 'Skowers', 'Slinkhard',\n",
       "       'Slytherin', 'fifth-year', 'Snatchers', 'Snickerton', 'Snowy',\n",
       "       'Roper', 'Hat', 'Sparky', 'Shunpike', 'Stebbins', '(Auror)',\n",
       "       'Cornfoot', 'Mungo', 'Boardman', 'students', 'Podmore',\n",
       "       'Obscurial', 'Summerby', 'Summers', 'Rawle', 'Tatting', 'Ted',\n",
       "       'Tenebrus', 'Tertius', 'Quintana', 'Harkaway', 'Thurkell',\n",
       "       'Tibbles', 'Tiberius', 'Toke', 'cloak', 'title', 'Titus',\n",
       "       'Todoroki', 'Tom', '(Bowtruckle)', 'Toots', 'Davis', 'Travers',\n",
       "       'Trevor', 'Trocar', 'Troy', 'Tufty', 'Twilfitt', 'Twycross',\n",
       "       'Ugga', 'Unreliable', 'Bilius', 'Nobby', 'tramp', 'London', 'Bath',\n",
       "       'Unclean', 'Oddball', 'Urquhart', 'Vaisey', 'Vázquez', 'lettuce',\n",
       "       'Vargot', 'Verity', 'Dudley', 'Smethley', 'Frobisher',\n",
       "       'Trefle-Picques', 'Violet', 'Beauvais', 'Viridian', 'Volkov',\n",
       "       'Widow', 'Wakahisa', 'Wakanda', 'Elf', 'Warrington', 'Harris',\n",
       "       'Hopkins', 'Weatherby', 'wife', 'Weird', 'Wenzel', 'Wigworthy',\n",
       "       'Elphick', 'Wistful', 'Wilkes', 'William', 'Williamson',\n",
       "       'Widdershins', 'Winky', 'Witherwings', 'moustache', 'Wolfke',\n",
       "       'Woman', 'Mediwizards', 'Wormtail', 'Wye', 'Fredericks',\n",
       "       'head-cold', 'Witch', 'Yvonne', 'Zograf', 'Zonko'], dtype=object)"
      ]
     },
     "execution_count": 231,
     "metadata": {},
     "output_type": "execute_result"
    }
   ],
   "source": [
    "df['Last Name'].unique() "
   ]
  },
  {
   "cell_type": "code",
   "execution_count": 238,
   "metadata": {},
   "outputs": [
    {
     "data": {
      "text/plain": [
       "Name            17\n",
       "Link            17\n",
       "Descr           17\n",
       "Gender          17\n",
       "Species/Race    17\n",
       "Blood           17\n",
       "School          17\n",
       "Profession      17\n",
       "First Name      17\n",
       "Last Name       17\n",
       "dtype: int64"
      ]
     },
     "execution_count": 238,
     "metadata": {},
     "output_type": "execute_result"
    }
   ],
   "source": [
    "df.groupby('School').get_group('Hogwarts - Hufflepuff').count()"
   ]
  },
  {
   "cell_type": "code",
   "execution_count": 246,
   "metadata": {},
   "outputs": [],
   "source": [
    "y = df['School'].iloc[0]"
   ]
  },
  {
   "cell_type": "code",
   "execution_count": 247,
   "metadata": {},
   "outputs": [
    {
     "data": {
      "text/plain": [
       "'Mrs.'"
      ]
     },
     "execution_count": 247,
     "metadata": {},
     "output_type": "execute_result"
    }
   ],
   "source": [
    "x.split(' ')[0]"
   ]
  },
  {
   "cell_type": "code",
   "execution_count": 248,
   "metadata": {},
   "outputs": [],
   "source": [
    "df['Schools'] = df['School'].apply(lambda title: title.split(' ')[0])"
   ]
  },
  {
   "cell_type": "code",
   "execution_count": 269,
   "metadata": {},
   "outputs": [
    {
     "data": {
      "text/html": [
       "<div>\n",
       "<style scoped>\n",
       "    .dataframe tbody tr th:only-of-type {\n",
       "        vertical-align: middle;\n",
       "    }\n",
       "\n",
       "    .dataframe tbody tr th {\n",
       "        vertical-align: top;\n",
       "    }\n",
       "\n",
       "    .dataframe thead th {\n",
       "        text-align: right;\n",
       "    }\n",
       "</style>\n",
       "<table border=\"1\" class=\"dataframe\">\n",
       "  <thead>\n",
       "    <tr style=\"text-align: right;\">\n",
       "      <th></th>\n",
       "      <th>Name</th>\n",
       "      <th>Link</th>\n",
       "      <th>Descr</th>\n",
       "      <th>Gender</th>\n",
       "      <th>Species/Race</th>\n",
       "      <th>Blood</th>\n",
       "      <th>School</th>\n",
       "      <th>Profession</th>\n",
       "      <th>First Name</th>\n",
       "      <th>Last Name</th>\n",
       "      <th>Schools</th>\n",
       "    </tr>\n",
       "  </thead>\n",
       "  <tbody>\n",
       "    <tr>\n",
       "      <th>1276</th>\n",
       "      <td>Yusuf Kama</td>\n",
       "      <td>https://www.hp-lexicon.org/character/yusef-kama/</td>\n",
       "      <td>Yusuf Kama was a French wizard of Senegalese a...</td>\n",
       "      <td>Male</td>\n",
       "      <td>human</td>\n",
       "      <td>Pure blood</td>\n",
       "      <td>Unknown</td>\n",
       "      <td>Unknown</td>\n",
       "      <td>Yusuf</td>\n",
       "      <td>Kama</td>\n",
       "      <td>Unknown</td>\n",
       "    </tr>\n",
       "    <tr>\n",
       "      <th>1277</th>\n",
       "      <td>Yvonne</td>\n",
       "      <td>https://www.hp-lexicon.org/character/yvonne/</td>\n",
       "      <td>Yvonne was a friend of Petunia Dursley who was...</td>\n",
       "      <td>Female</td>\n",
       "      <td>muggle</td>\n",
       "      <td>Muggle</td>\n",
       "      <td>Unknown</td>\n",
       "      <td>Unknown</td>\n",
       "      <td>Yvonne</td>\n",
       "      <td>Yvonne</td>\n",
       "      <td>Unknown</td>\n",
       "    </tr>\n",
       "    <tr>\n",
       "      <th>1278</th>\n",
       "      <td>Zacharias Smith's father</td>\n",
       "      <td>https://www.hp-lexicon.org/character/zacharias...</td>\n",
       "      <td>The father of Hogwarts student Zacharias Smith...</td>\n",
       "      <td>Male</td>\n",
       "      <td>wizard</td>\n",
       "      <td>Unknown</td>\n",
       "      <td>Unknown</td>\n",
       "      <td>Unknown</td>\n",
       "      <td>Zacharias</td>\n",
       "      <td>father</td>\n",
       "      <td>Unknown</td>\n",
       "    </tr>\n",
       "    <tr>\n",
       "      <th>1279</th>\n",
       "      <td>Zograf</td>\n",
       "      <td>https://www.hp-lexicon.org/character/zograf/</td>\n",
       "      <td>Zograf played Keeper for the Bulgarian Nationa...</td>\n",
       "      <td>NaN</td>\n",
       "      <td>wizard</td>\n",
       "      <td>Unknown</td>\n",
       "      <td>Unknown</td>\n",
       "      <td>Quidditch player (Keeper)</td>\n",
       "      <td>Zograf</td>\n",
       "      <td>Zograf</td>\n",
       "      <td>Unknown</td>\n",
       "    </tr>\n",
       "    <tr>\n",
       "      <th>1280</th>\n",
       "      <td>Zonko</td>\n",
       "      <td>https://www.hp-lexicon.org/character/zonko/</td>\n",
       "      <td>Founder(?) of Zonko’s Joke Shop. Possibly a re...</td>\n",
       "      <td>NaN</td>\n",
       "      <td>unknown</td>\n",
       "      <td>Unknown</td>\n",
       "      <td>Unknown</td>\n",
       "      <td>Unknown</td>\n",
       "      <td>Zonko</td>\n",
       "      <td>Zonko</td>\n",
       "      <td>Unknown</td>\n",
       "    </tr>\n",
       "  </tbody>\n",
       "</table>\n",
       "</div>"
      ],
      "text/plain": [
       "                          Name  \\\n",
       "1276                Yusuf Kama   \n",
       "1277                    Yvonne   \n",
       "1278  Zacharias Smith's father   \n",
       "1279                    Zograf   \n",
       "1280                     Zonko   \n",
       "\n",
       "                                                   Link  \\\n",
       "1276   https://www.hp-lexicon.org/character/yusef-kama/   \n",
       "1277       https://www.hp-lexicon.org/character/yvonne/   \n",
       "1278  https://www.hp-lexicon.org/character/zacharias...   \n",
       "1279       https://www.hp-lexicon.org/character/zograf/   \n",
       "1280        https://www.hp-lexicon.org/character/zonko/   \n",
       "\n",
       "                                                  Descr  Gender Species/Race  \\\n",
       "1276  Yusuf Kama was a French wizard of Senegalese a...    Male        human   \n",
       "1277  Yvonne was a friend of Petunia Dursley who was...  Female       muggle   \n",
       "1278  The father of Hogwarts student Zacharias Smith...    Male       wizard   \n",
       "1279  Zograf played Keeper for the Bulgarian Nationa...     NaN       wizard   \n",
       "1280  Founder(?) of Zonko’s Joke Shop. Possibly a re...     NaN      unknown   \n",
       "\n",
       "           Blood   School                 Profession First Name Last Name  \\\n",
       "1276  Pure blood  Unknown                    Unknown      Yusuf      Kama   \n",
       "1277      Muggle  Unknown                    Unknown     Yvonne    Yvonne   \n",
       "1278     Unknown  Unknown                    Unknown  Zacharias    father   \n",
       "1279     Unknown  Unknown  Quidditch player (Keeper)     Zograf    Zograf   \n",
       "1280     Unknown  Unknown                    Unknown      Zonko     Zonko   \n",
       "\n",
       "      Schools  \n",
       "1276  Unknown  \n",
       "1277  Unknown  \n",
       "1278  Unknown  \n",
       "1279  Unknown  \n",
       "1280  Unknown  "
      ]
     },
     "execution_count": 269,
     "metadata": {},
     "output_type": "execute_result"
    }
   ],
   "source": [
    "df.tail()"
   ]
  },
  {
   "cell_type": "code",
   "execution_count": 264,
   "metadata": {},
   "outputs": [
    {
     "data": {
      "text/plain": [
       "Name            231\n",
       "Link            231\n",
       "Descr           231\n",
       "Gender          223\n",
       "Species/Race    231\n",
       "Blood           231\n",
       "School          231\n",
       "Profession      231\n",
       "First Name      231\n",
       "Last Name       231\n",
       "Schools         231\n",
       "dtype: int64"
      ]
     },
     "execution_count": 264,
     "metadata": {},
     "output_type": "execute_result"
    }
   ],
   "source": [
    "df.groupby('Schools').get_group('Hogwarts').count()"
   ]
  },
  {
   "cell_type": "code",
   "execution_count": 267,
   "metadata": {},
   "outputs": [],
   "source": [
    "by_Schools_gender = df.groupby(by=['Schools', 'Gender']).count()['Blood'].unstack()"
   ]
  },
  {
   "cell_type": "code",
   "execution_count": 268,
   "metadata": {},
   "outputs": [
    {
     "data": {
      "text/plain": [
       "<AxesSubplot:xlabel='Gender', ylabel='Schools'>"
      ]
     },
     "execution_count": 268,
     "metadata": {},
     "output_type": "execute_result"
    },
    {
     "data": {
      "image/png": "[encoded data removed]",
      "text/plain": [
       "<Figure size 432x288 with 2 Axes>"
      ]
     },
     "metadata": {
      "needs_background": "light"
     },
     "output_type": "display_data"
    }
   ],
   "source": [
    "sns.heatmap(by_Schools_gender, cmap=\"coolwarm\")"
   ]
  },
  {
   "cell_type": "code",
   "execution_count": 273,
   "metadata": {},
   "outputs": [],
   "source": [
    "z = df['Profession'].iloc[0]"
   ]
  },
  {
   "cell_type": "code",
   "execution_count": 275,
   "metadata": {},
   "outputs": [
    {
     "data": {
      "text/plain": [
       "'Unknown'"
      ]
     },
     "execution_count": 275,
     "metadata": {},
     "output_type": "execute_result"
    }
   ],
   "source": [
    "z.split(' ')[0]"
   ]
  },
  {
   "cell_type": "code",
   "execution_count": 276,
   "metadata": {},
   "outputs": [],
   "source": [
    "df['SimplePro'] = df['Profession'].apply(lambda title: title.split(' ')[0])"
   ]
  },
  {
   "cell_type": "code",
   "execution_count": 277,
   "metadata": {},
   "outputs": [
    {
     "data": {
      "text/html": [
       "<div>\n",
       "<style scoped>\n",
       "    .dataframe tbody tr th:only-of-type {\n",
       "        vertical-align: middle;\n",
       "    }\n",
       "\n",
       "    .dataframe tbody tr th {\n",
       "        vertical-align: top;\n",
       "    }\n",
       "\n",
       "    .dataframe thead th {\n",
       "        text-align: right;\n",
       "    }\n",
       "</style>\n",
       "<table border=\"1\" class=\"dataframe\">\n",
       "  <thead>\n",
       "    <tr style=\"text-align: right;\">\n",
       "      <th></th>\n",
       "      <th>Name</th>\n",
       "      <th>Link</th>\n",
       "      <th>Descr</th>\n",
       "      <th>Gender</th>\n",
       "      <th>Species/Race</th>\n",
       "      <th>Blood</th>\n",
       "      <th>School</th>\n",
       "      <th>Profession</th>\n",
       "      <th>First Name</th>\n",
       "      <th>Last Name</th>\n",
       "      <th>Schools</th>\n",
       "      <th>SimplePro</th>\n",
       "    </tr>\n",
       "  </thead>\n",
       "  <tbody>\n",
       "    <tr>\n",
       "      <th>0</th>\n",
       "      <td>Mrs. Abbott</td>\n",
       "      <td>https://www.hp-lexicon.org/character/abbott-fa...</td>\n",
       "      <td>Mrs. Abbott was the mother of Hannah Abbott, a...</td>\n",
       "      <td>Female</td>\n",
       "      <td>witch</td>\n",
       "      <td>Muggle-born</td>\n",
       "      <td>Unknown</td>\n",
       "      <td>Unknown</td>\n",
       "      <td>Mrs.</td>\n",
       "      <td>Abbott</td>\n",
       "      <td>Unknown</td>\n",
       "      <td>Unknown</td>\n",
       "    </tr>\n",
       "    <tr>\n",
       "      <th>1</th>\n",
       "      <td>Hannah Abbott</td>\n",
       "      <td>https://www.hp-lexicon.org/character/abbott-fa...</td>\n",
       "      <td>Hannah Abbott is a Hufflepuff student in Harry...</td>\n",
       "      <td>Female</td>\n",
       "      <td>witch</td>\n",
       "      <td>Half-blood</td>\n",
       "      <td>Hogwarts - Hufflepuff</td>\n",
       "      <td>Landlady of the Leaky Cauldron</td>\n",
       "      <td>Hannah</td>\n",
       "      <td>Abbott</td>\n",
       "      <td>Hogwarts</td>\n",
       "      <td>Landlady</td>\n",
       "    </tr>\n",
       "    <tr>\n",
       "      <th>2</th>\n",
       "      <td>Abel Treetops</td>\n",
       "      <td>https://www.hp-lexicon.org/character/abel-tree...</td>\n",
       "      <td>Abel Treetops was a wizard from Cincinnati who...</td>\n",
       "      <td>Male</td>\n",
       "      <td>wizard</td>\n",
       "      <td>Unknown</td>\n",
       "      <td>Unknown</td>\n",
       "      <td>Unknown</td>\n",
       "      <td>Abel</td>\n",
       "      <td>Treetops</td>\n",
       "      <td>Unknown</td>\n",
       "      <td>Unknown</td>\n",
       "    </tr>\n",
       "    <tr>\n",
       "      <th>3</th>\n",
       "      <td>Euan Abercrombie</td>\n",
       "      <td>https://www.hp-lexicon.org/character/abercromb...</td>\n",
       "      <td>Euan Abercrombie was a small boy with prominen...</td>\n",
       "      <td>Male</td>\n",
       "      <td>wizard</td>\n",
       "      <td>Unknown</td>\n",
       "      <td>Hogwarts - Gryffindor</td>\n",
       "      <td>Unknown</td>\n",
       "      <td>Euan</td>\n",
       "      <td>Abercrombie</td>\n",
       "      <td>Hogwarts</td>\n",
       "      <td>Unknown</td>\n",
       "    </tr>\n",
       "    <tr>\n",
       "      <th>4</th>\n",
       "      <td>Aberforth Dumbledore</td>\n",
       "      <td>https://www.hp-lexicon.org/character/dumbledor...</td>\n",
       "      <td>Aberforth Dumbledore was a tall, thin, grumpy-...</td>\n",
       "      <td>Male</td>\n",
       "      <td>wizard</td>\n",
       "      <td>Half-blood</td>\n",
       "      <td>Hogwarts - Student</td>\n",
       "      <td>Barman</td>\n",
       "      <td>Aberforth</td>\n",
       "      <td>Dumbledore</td>\n",
       "      <td>Hogwarts</td>\n",
       "      <td>Barman</td>\n",
       "    </tr>\n",
       "  </tbody>\n",
       "</table>\n",
       "</div>"
      ],
      "text/plain": [
       "                   Name                                               Link  \\\n",
       "0           Mrs. Abbott  https://www.hp-lexicon.org/character/abbott-fa...   \n",
       "1         Hannah Abbott  https://www.hp-lexicon.org/character/abbott-fa...   \n",
       "2         Abel Treetops  https://www.hp-lexicon.org/character/abel-tree...   \n",
       "3      Euan Abercrombie  https://www.hp-lexicon.org/character/abercromb...   \n",
       "4  Aberforth Dumbledore  https://www.hp-lexicon.org/character/dumbledor...   \n",
       "\n",
       "                                               Descr  Gender Species/Race  \\\n",
       "0  Mrs. Abbott was the mother of Hannah Abbott, a...  Female        witch   \n",
       "1  Hannah Abbott is a Hufflepuff student in Harry...  Female        witch   \n",
       "2  Abel Treetops was a wizard from Cincinnati who...    Male       wizard   \n",
       "3  Euan Abercrombie was a small boy with prominen...    Male       wizard   \n",
       "4  Aberforth Dumbledore was a tall, thin, grumpy-...    Male       wizard   \n",
       "\n",
       "         Blood                 School                      Profession  \\\n",
       "0  Muggle-born                Unknown                         Unknown   \n",
       "1   Half-blood  Hogwarts - Hufflepuff  Landlady of the Leaky Cauldron   \n",
       "2      Unknown                Unknown                         Unknown   \n",
       "3      Unknown  Hogwarts - Gryffindor                         Unknown   \n",
       "4   Half-blood     Hogwarts - Student                          Barman   \n",
       "\n",
       "  First Name    Last Name   Schools SimplePro  \n",
       "0       Mrs.       Abbott   Unknown   Unknown  \n",
       "1     Hannah       Abbott  Hogwarts  Landlady  \n",
       "2       Abel     Treetops   Unknown   Unknown  \n",
       "3       Euan  Abercrombie  Hogwarts   Unknown  \n",
       "4  Aberforth   Dumbledore  Hogwarts    Barman  "
      ]
     },
     "execution_count": 277,
     "metadata": {},
     "output_type": "execute_result"
    }
   ],
   "source": [
    "df.head()"
   ]
  },
  {
   "cell_type": "code",
   "execution_count": 281,
   "metadata": {},
   "outputs": [
    {
     "data": {
      "text/plain": [
       "Name            103\n",
       "Link            103\n",
       "Descr           103\n",
       "Gender           95\n",
       "Species/Race    103\n",
       "Blood           103\n",
       "School          103\n",
       "Profession      103\n",
       "First Name      103\n",
       "Last Name       103\n",
       "Schools         103\n",
       "SimplePro       103\n",
       "dtype: int64"
      ]
     },
     "execution_count": 281,
     "metadata": {},
     "output_type": "execute_result"
    }
   ],
   "source": [
    "df[df['SimplePro'] == 'Quidditch'].count()"
   ]
  },
  {
   "cell_type": "code",
   "execution_count": 283,
   "metadata": {},
   "outputs": [
    {
     "data": {
      "text/plain": [
       "Name            25\n",
       "Link            25\n",
       "Descr           25\n",
       "Gender          25\n",
       "Species/Race    25\n",
       "Blood           25\n",
       "School          25\n",
       "Profession      25\n",
       "First Name      25\n",
       "Last Name       25\n",
       "Schools         25\n",
       "SimplePro       25\n",
       "dtype: int64"
      ]
     },
     "execution_count": 283,
     "metadata": {},
     "output_type": "execute_result"
    }
   ],
   "source": [
    "df[(df['SimplePro'] == 'Quidditch') & (df['Gender'] == 'Female')].count()"
   ]
  },
  {
   "cell_type": "code",
   "execution_count": 284,
   "metadata": {},
   "outputs": [
    {
     "data": {
      "text/plain": [
       "Name            70\n",
       "Link            70\n",
       "Descr           70\n",
       "Gender          70\n",
       "Species/Race    70\n",
       "Blood           70\n",
       "School          70\n",
       "Profession      70\n",
       "First Name      70\n",
       "Last Name       70\n",
       "Schools         70\n",
       "SimplePro       70\n",
       "dtype: int64"
      ]
     },
     "execution_count": 284,
     "metadata": {},
     "output_type": "execute_result"
    }
   ],
   "source": [
    "df[(df['SimplePro'] == 'Quidditch') & (df['Gender'] == 'Male')].count()"
   ]
  },
  {
   "cell_type": "code",
   "execution_count": 286,
   "metadata": {},
   "outputs": [
    {
     "data": {
      "text/plain": [
       "Name            3\n",
       "Link            3\n",
       "Descr           3\n",
       "Gender          3\n",
       "Species/Race    3\n",
       "Blood           3\n",
       "School          3\n",
       "Profession      3\n",
       "First Name      3\n",
       "Last Name       3\n",
       "Schools         3\n",
       "SimplePro       3\n",
       "dtype: int64"
      ]
     },
     "execution_count": 286,
     "metadata": {},
     "output_type": "execute_result"
    }
   ],
   "source": [
    "df[(df['SimplePro'] == 'Quidditch') & (df['Gender'] == 'Male') & (df['Schools'] == 'Hogwarts')].count()"
   ]
  },
  {
   "cell_type": "code",
   "execution_count": null,
   "metadata": {},
   "outputs": [],
   "source": []
  }
 ],
 "metadata": {
  "kernelspec": {
   "display_name": "Python 3",
   "language": "python",
   "name": "python3"
  },
  "language_info": {
   "codemirror_mode": {
    "name": "ipython",
    "version": 3
   },
   "file_extension": ".py",
   "mimetype": "text/x-python",
   "name": "python",
   "nbconvert_exporter": "python",
   "pygments_lexer": "ipython3",
   "version": "3.8.5"
  }
 },
 "nbformat": 4,
 "nbformat_minor": 4
}
