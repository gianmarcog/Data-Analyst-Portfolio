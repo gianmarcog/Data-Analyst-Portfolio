{
 "cells": [
  {
   "cell_type": "code",
   "execution_count": 38,
   "metadata": {},
   "outputs": [],
   "source": [
    "import pandas as pd"
   ]
  },
  {
   "cell_type": "code",
   "execution_count": 39,
   "metadata": {},
   "outputs": [
    {
     "data": {
      "text/html": "<div>\n<style scoped>\n    .dataframe tbody tr th:only-of-type {\n        vertical-align: middle;\n    }\n\n    .dataframe tbody tr th {\n        vertical-align: top;\n    }\n\n    .dataframe thead th {\n        text-align: right;\n    }\n</style>\n<table border=\"1\" class=\"dataframe\">\n  <thead>\n    <tr style=\"text-align: right;\">\n      <th></th>\n      <th>Row Type</th>\n      <th>Iter Number</th>\n      <th>Power1</th>\n      <th>Speed1</th>\n      <th>Speed2</th>\n      <th>Electricity</th>\n      <th>Effort</th>\n      <th>Weight</th>\n      <th>Torque</th>\n      <th>Unnamed: 9</th>\n      <th>Unnamed: 10</th>\n    </tr>\n  </thead>\n  <tbody>\n    <tr>\n      <th>0</th>\n      <td>first name: Person</td>\n      <td>last name: Human</td>\n      <td>date: end of time</td>\n      <td>NaN</td>\n      <td>NaN</td>\n      <td>NaN</td>\n      <td>NaN</td>\n      <td>NaN</td>\n      <td>NaN</td>\n      <td>NaN</td>\n      <td>NaN</td>\n    </tr>\n    <tr>\n      <th>1</th>\n      <td>NaN</td>\n      <td>NaN</td>\n      <td>NaN</td>\n      <td>NaN</td>\n      <td>NaN</td>\n      <td>NaN</td>\n      <td>NaN</td>\n      <td>NaN</td>\n      <td>NaN</td>\n      <td>NaN</td>\n      <td>NaN</td>\n    </tr>\n    <tr>\n      <th>2</th>\n      <td>Row Type</td>\n      <td>Iter Number</td>\n      <td>Power1</td>\n      <td>Speed1</td>\n      <td>Speed2</td>\n      <td>Electricity</td>\n      <td>Effort</td>\n      <td>Weight</td>\n      <td>Torque</td>\n      <td>NaN</td>\n      <td>NaN</td>\n    </tr>\n    <tr>\n      <th>3</th>\n      <td>Iter</td>\n      <td>1</td>\n      <td>360</td>\n      <td>108</td>\n      <td>863</td>\n      <td>599</td>\n      <td>680</td>\n      <td>442</td>\n      <td>982</td>\n      <td>NaN</td>\n      <td>NaN</td>\n    </tr>\n    <tr>\n      <th>4</th>\n      <td>Iter</td>\n      <td>2</td>\n      <td>684</td>\n      <td>508</td>\n      <td>613</td>\n      <td>241</td>\n      <td>249</td>\n      <td>758</td>\n      <td>639</td>\n      <td>NaN</td>\n      <td>NaN</td>\n    </tr>\n    <tr>\n      <th>...</th>\n      <td>...</td>\n      <td>...</td>\n      <td>...</td>\n      <td>...</td>\n      <td>...</td>\n      <td>...</td>\n      <td>...</td>\n      <td>...</td>\n      <td>...</td>\n      <td>...</td>\n      <td>...</td>\n    </tr>\n    <tr>\n      <th>76372</th>\n      <td>Iter</td>\n      <td>6</td>\n      <td>879</td>\n      <td>73</td>\n      <td>977</td>\n      <td>680</td>\n      <td>500</td>\n      <td>395</td>\n      <td>863</td>\n      <td>NaN</td>\n      <td>NaN</td>\n    </tr>\n    <tr>\n      <th>76373</th>\n      <td>Average</td>\n      <td>979</td>\n      <td>641</td>\n      <td>531</td>\n      <td>374</td>\n      <td>448</td>\n      <td>407</td>\n      <td>185</td>\n      <td>439</td>\n      <td>NaN</td>\n      <td>NaN</td>\n    </tr>\n    <tr>\n      <th>76374</th>\n      <td>Maximum</td>\n      <td>783</td>\n      <td>172</td>\n      <td>941</td>\n      <td>53</td>\n      <td>982</td>\n      <td>217</td>\n      <td>963</td>\n      <td>502</td>\n      <td>NaN</td>\n      <td>NaN</td>\n    </tr>\n    <tr>\n      <th>76375</th>\n      <td>Std.Dev.</td>\n      <td>221</td>\n      <td>112</td>\n      <td>717</td>\n      <td>630</td>\n      <td>239</td>\n      <td>561</td>\n      <td>142</td>\n      <td>909</td>\n      <td>NaN</td>\n      <td>NaN</td>\n    </tr>\n    <tr>\n      <th>76376</th>\n      <td>Total</td>\n      <td>429</td>\n      <td>-</td>\n      <td>-</td>\n      <td>-</td>\n      <td>-</td>\n      <td>847</td>\n      <td>583</td>\n      <td>407</td>\n      <td>NaN</td>\n      <td>NaN</td>\n    </tr>\n  </tbody>\n</table>\n<p>76377 rows × 11 columns</p>\n</div>",
      "text/plain": "                 Row Type       Iter Number             Power1  Speed1  \\\n0      first name: Person  last name: Human  date: end of time     NaN   \n1                     NaN               NaN                NaN     NaN   \n2                Row Type       Iter Number             Power1  Speed1   \n3                    Iter                 1                360     108   \n4                    Iter                 2                684     508   \n...                   ...               ...                ...     ...   \n76372                Iter                 6                879      73   \n76373             Average               979                641     531   \n76374             Maximum               783                172     941   \n76375            Std.Dev.               221                112     717   \n76376               Total               429                  -       -   \n\n       Speed2  Electricity  Effort  Weight  Torque  Unnamed: 9 Unnamed: 10  \n0         NaN          NaN     NaN     NaN     NaN         NaN         NaN  \n1         NaN          NaN     NaN     NaN     NaN         NaN         NaN  \n2      Speed2  Electricity  Effort  Weight  Torque         NaN         NaN  \n3         863          599     680     442     982         NaN         NaN  \n4         613          241     249     758     639         NaN         NaN  \n...       ...          ...     ...     ...     ...         ...         ...  \n76372     977          680     500     395     863         NaN         NaN  \n76373     374          448     407     185     439         NaN         NaN  \n76374      53          982     217     963     502         NaN         NaN  \n76375     630          239     561     142     909         NaN         NaN  \n76376       -            -     847     583     407         NaN         NaN  \n\n[76377 rows x 11 columns]"
     },
     "execution_count": 39,
     "metadata": {},
     "output_type": "execute_result"
    }
   ],
   "source": [
    "data_import = pd.read_csv('data_cleaning.csv')\n",
    "data_import"
   ]
  },
  {
   "cell_type": "code",
   "execution_count": 40,
   "metadata": {},
   "outputs": [
    {
     "data": {
      "text/html": "<div>\n<style scoped>\n    .dataframe tbody tr th:only-of-type {\n        vertical-align: middle;\n    }\n\n    .dataframe tbody tr th {\n        vertical-align: top;\n    }\n\n    .dataframe thead th {\n        text-align: right;\n    }\n</style>\n<table border=\"1\" class=\"dataframe\">\n  <thead>\n    <tr style=\"text-align: right;\">\n      <th></th>\n      <th>Row Type</th>\n      <th>Iter Number</th>\n      <th>Power1</th>\n      <th>Speed1</th>\n      <th>Speed2</th>\n      <th>Electricity</th>\n      <th>Effort</th>\n      <th>Weight</th>\n      <th>Torque</th>\n    </tr>\n  </thead>\n  <tbody>\n    <tr>\n      <th>0</th>\n      <td>first name: Person</td>\n      <td>last name: Human</td>\n      <td>date: end of time</td>\n      <td>NaN</td>\n      <td>NaN</td>\n      <td>NaN</td>\n      <td>NaN</td>\n      <td>NaN</td>\n      <td>NaN</td>\n    </tr>\n    <tr>\n      <th>1</th>\n      <td>NaN</td>\n      <td>NaN</td>\n      <td>NaN</td>\n      <td>NaN</td>\n      <td>NaN</td>\n      <td>NaN</td>\n      <td>NaN</td>\n      <td>NaN</td>\n      <td>NaN</td>\n    </tr>\n    <tr>\n      <th>2</th>\n      <td>Row Type</td>\n      <td>Iter Number</td>\n      <td>Power1</td>\n      <td>Speed1</td>\n      <td>Speed2</td>\n      <td>Electricity</td>\n      <td>Effort</td>\n      <td>Weight</td>\n      <td>Torque</td>\n    </tr>\n    <tr>\n      <th>3</th>\n      <td>Iter</td>\n      <td>1</td>\n      <td>360</td>\n      <td>108</td>\n      <td>863</td>\n      <td>599</td>\n      <td>680</td>\n      <td>442</td>\n      <td>982</td>\n    </tr>\n    <tr>\n      <th>4</th>\n      <td>Iter</td>\n      <td>2</td>\n      <td>684</td>\n      <td>508</td>\n      <td>613</td>\n      <td>241</td>\n      <td>249</td>\n      <td>758</td>\n      <td>639</td>\n    </tr>\n    <tr>\n      <th>...</th>\n      <td>...</td>\n      <td>...</td>\n      <td>...</td>\n      <td>...</td>\n      <td>...</td>\n      <td>...</td>\n      <td>...</td>\n      <td>...</td>\n      <td>...</td>\n    </tr>\n    <tr>\n      <th>76372</th>\n      <td>Iter</td>\n      <td>6</td>\n      <td>879</td>\n      <td>73</td>\n      <td>977</td>\n      <td>680</td>\n      <td>500</td>\n      <td>395</td>\n      <td>863</td>\n    </tr>\n    <tr>\n      <th>76373</th>\n      <td>Average</td>\n      <td>979</td>\n      <td>641</td>\n      <td>531</td>\n      <td>374</td>\n      <td>448</td>\n      <td>407</td>\n      <td>185</td>\n      <td>439</td>\n    </tr>\n    <tr>\n      <th>76374</th>\n      <td>Maximum</td>\n      <td>783</td>\n      <td>172</td>\n      <td>941</td>\n      <td>53</td>\n      <td>982</td>\n      <td>217</td>\n      <td>963</td>\n      <td>502</td>\n    </tr>\n    <tr>\n      <th>76375</th>\n      <td>Std.Dev.</td>\n      <td>221</td>\n      <td>112</td>\n      <td>717</td>\n      <td>630</td>\n      <td>239</td>\n      <td>561</td>\n      <td>142</td>\n      <td>909</td>\n    </tr>\n    <tr>\n      <th>76376</th>\n      <td>Total</td>\n      <td>429</td>\n      <td>-</td>\n      <td>-</td>\n      <td>-</td>\n      <td>-</td>\n      <td>847</td>\n      <td>583</td>\n      <td>407</td>\n    </tr>\n  </tbody>\n</table>\n<p>76377 rows × 9 columns</p>\n</div>",
      "text/plain": "                 Row Type       Iter Number             Power1  Speed1  \\\n0      first name: Person  last name: Human  date: end of time     NaN   \n1                     NaN               NaN                NaN     NaN   \n2                Row Type       Iter Number             Power1  Speed1   \n3                    Iter                 1                360     108   \n4                    Iter                 2                684     508   \n...                   ...               ...                ...     ...   \n76372                Iter                 6                879      73   \n76373             Average               979                641     531   \n76374             Maximum               783                172     941   \n76375            Std.Dev.               221                112     717   \n76376               Total               429                  -       -   \n\n       Speed2  Electricity  Effort  Weight  Torque  \n0         NaN          NaN     NaN     NaN     NaN  \n1         NaN          NaN     NaN     NaN     NaN  \n2      Speed2  Electricity  Effort  Weight  Torque  \n3         863          599     680     442     982  \n4         613          241     249     758     639  \n...       ...          ...     ...     ...     ...  \n76372     977          680     500     395     863  \n76373     374          448     407     185     439  \n76374      53          982     217     963     502  \n76375     630          239     561     142     909  \n76376       -            -     847     583     407  \n\n[76377 rows x 9 columns]"
     },
     "execution_count": 40,
     "metadata": {},
     "output_type": "execute_result"
    }
   ],
   "source": [
    "drop_extra = data_import.drop(columns=[\"Unnamed: 9\", \"Unnamed: 10\"])\n",
    "drop_extra"
   ]
  },
  {
   "cell_type": "code",
   "execution_count": 41,
   "metadata": {},
   "outputs": [
    {
     "data": {
      "text/html": "<div>\n<style scoped>\n    .dataframe tbody tr th:only-of-type {\n        vertical-align: middle;\n    }\n\n    .dataframe tbody tr th {\n        vertical-align: top;\n    }\n\n    .dataframe thead th {\n        text-align: right;\n    }\n</style>\n<table border=\"1\" class=\"dataframe\">\n  <thead>\n    <tr style=\"text-align: right;\">\n      <th></th>\n      <th>Row Type</th>\n      <th>Iter Number</th>\n      <th>Power1</th>\n      <th>Speed1</th>\n      <th>Speed2</th>\n      <th>Electricity</th>\n      <th>Effort</th>\n      <th>Weight</th>\n      <th>Torque</th>\n    </tr>\n  </thead>\n  <tbody>\n    <tr>\n      <th>0</th>\n      <td>first name: Person</td>\n      <td>last name: Human</td>\n      <td>date: end of time</td>\n      <td>NaN</td>\n      <td>NaN</td>\n      <td>NaN</td>\n      <td>NaN</td>\n      <td>NaN</td>\n      <td>NaN</td>\n    </tr>\n    <tr>\n      <th>2</th>\n      <td>Row Type</td>\n      <td>Iter Number</td>\n      <td>Power1</td>\n      <td>Speed1</td>\n      <td>Speed2</td>\n      <td>Electricity</td>\n      <td>Effort</td>\n      <td>Weight</td>\n      <td>Torque</td>\n    </tr>\n    <tr>\n      <th>3</th>\n      <td>Iter</td>\n      <td>1</td>\n      <td>360</td>\n      <td>108</td>\n      <td>863</td>\n      <td>599</td>\n      <td>680</td>\n      <td>442</td>\n      <td>982</td>\n    </tr>\n    <tr>\n      <th>4</th>\n      <td>Iter</td>\n      <td>2</td>\n      <td>684</td>\n      <td>508</td>\n      <td>613</td>\n      <td>241</td>\n      <td>249</td>\n      <td>758</td>\n      <td>639</td>\n    </tr>\n    <tr>\n      <th>5</th>\n      <td>Iter</td>\n      <td>3</td>\n      <td>365</td>\n      <td>126</td>\n      <td>825</td>\n      <td>407</td>\n      <td>855</td>\n      <td>164</td>\n      <td>86</td>\n    </tr>\n    <tr>\n      <th>...</th>\n      <td>...</td>\n      <td>...</td>\n      <td>...</td>\n      <td>...</td>\n      <td>...</td>\n      <td>...</td>\n      <td>...</td>\n      <td>...</td>\n      <td>...</td>\n    </tr>\n    <tr>\n      <th>76372</th>\n      <td>Iter</td>\n      <td>6</td>\n      <td>879</td>\n      <td>73</td>\n      <td>977</td>\n      <td>680</td>\n      <td>500</td>\n      <td>395</td>\n      <td>863</td>\n    </tr>\n    <tr>\n      <th>76373</th>\n      <td>Average</td>\n      <td>979</td>\n      <td>641</td>\n      <td>531</td>\n      <td>374</td>\n      <td>448</td>\n      <td>407</td>\n      <td>185</td>\n      <td>439</td>\n    </tr>\n    <tr>\n      <th>76374</th>\n      <td>Maximum</td>\n      <td>783</td>\n      <td>172</td>\n      <td>941</td>\n      <td>53</td>\n      <td>982</td>\n      <td>217</td>\n      <td>963</td>\n      <td>502</td>\n    </tr>\n    <tr>\n      <th>76375</th>\n      <td>Std.Dev.</td>\n      <td>221</td>\n      <td>112</td>\n      <td>717</td>\n      <td>630</td>\n      <td>239</td>\n      <td>561</td>\n      <td>142</td>\n      <td>909</td>\n    </tr>\n    <tr>\n      <th>76376</th>\n      <td>Total</td>\n      <td>429</td>\n      <td>-</td>\n      <td>-</td>\n      <td>-</td>\n      <td>-</td>\n      <td>847</td>\n      <td>583</td>\n      <td>407</td>\n    </tr>\n  </tbody>\n</table>\n<p>58397 rows × 9 columns</p>\n</div>",
      "text/plain": "                 Row Type       Iter Number             Power1  Speed1  \\\n0      first name: Person  last name: Human  date: end of time     NaN   \n2                Row Type       Iter Number             Power1  Speed1   \n3                    Iter                 1                360     108   \n4                    Iter                 2                684     508   \n5                    Iter                 3                365     126   \n...                   ...               ...                ...     ...   \n76372                Iter                 6                879      73   \n76373             Average               979                641     531   \n76374             Maximum               783                172     941   \n76375            Std.Dev.               221                112     717   \n76376               Total               429                  -       -   \n\n       Speed2  Electricity  Effort  Weight  Torque  \n0         NaN          NaN     NaN     NaN     NaN  \n2      Speed2  Electricity  Effort  Weight  Torque  \n3         863          599     680     442     982  \n4         613          241     249     758     639  \n5         825          407     855     164      86  \n...       ...          ...     ...     ...     ...  \n76372     977          680     500     395     863  \n76373     374          448     407     185     439  \n76374      53          982     217     963     502  \n76375     630          239     561     142     909  \n76376       -            -     847     583     407  \n\n[58397 rows x 9 columns]"
     },
     "execution_count": 41,
     "metadata": {},
     "output_type": "execute_result"
    }
   ],
   "source": [
    "drop_nans = drop_extra[drop_extra[\"Row Type\"].notna()]\n",
    "drop_nans"
   ]
  },
  {
   "cell_type": "code",
   "execution_count": 42,
   "metadata": {},
   "outputs": [],
   "source": [
    "column_values = []\n",
    "iteration = 0\n",
    "\n",
    "for i in drop_nans[\"Row Type\"]:\n",
    "    if \"first name\" in i:\n",
    "        iteration += 1\n",
    "    column_values.append(iteration)\n"
   ]
  },
  {
   "cell_type": "code",
   "execution_count": 43,
   "metadata": {},
   "outputs": [
    {
     "name": "stderr",
     "output_type": "stream",
     "text": [
      "/var/folders/6t/46w6nxw10wn8zdy79z0hgp8c0000gn/T/ipykernel_96762/3121791173.py:2: SettingWithCopyWarning: \n",
      "A value is trying to be set on a copy of a slice from a DataFrame.\n",
      "Try using .loc[row_indexer,col_indexer] = value instead\n",
      "\n",
      "See the caveats in the documentation: https://pandas.pydata.org/pandas-docs/stable/user_guide/indexing.html#returning-a-view-versus-a-copy\n",
      "  iter_cols[\"Iteration\"] = column_values\n"
     ]
    },
    {
     "data": {
      "text/html": "<div>\n<style scoped>\n    .dataframe tbody tr th:only-of-type {\n        vertical-align: middle;\n    }\n\n    .dataframe tbody tr th {\n        vertical-align: top;\n    }\n\n    .dataframe thead th {\n        text-align: right;\n    }\n</style>\n<table border=\"1\" class=\"dataframe\">\n  <thead>\n    <tr style=\"text-align: right;\">\n      <th></th>\n      <th>Row Type</th>\n      <th>Iter Number</th>\n      <th>Power1</th>\n      <th>Speed1</th>\n      <th>Speed2</th>\n      <th>Electricity</th>\n      <th>Effort</th>\n      <th>Weight</th>\n      <th>Torque</th>\n      <th>Iteration</th>\n    </tr>\n  </thead>\n  <tbody>\n    <tr>\n      <th>0</th>\n      <td>first name: Person</td>\n      <td>last name: Human</td>\n      <td>date: end of time</td>\n      <td>NaN</td>\n      <td>NaN</td>\n      <td>NaN</td>\n      <td>NaN</td>\n      <td>NaN</td>\n      <td>NaN</td>\n      <td>1</td>\n    </tr>\n    <tr>\n      <th>2</th>\n      <td>Row Type</td>\n      <td>Iter Number</td>\n      <td>Power1</td>\n      <td>Speed1</td>\n      <td>Speed2</td>\n      <td>Electricity</td>\n      <td>Effort</td>\n      <td>Weight</td>\n      <td>Torque</td>\n      <td>1</td>\n    </tr>\n    <tr>\n      <th>3</th>\n      <td>Iter</td>\n      <td>1</td>\n      <td>360</td>\n      <td>108</td>\n      <td>863</td>\n      <td>599</td>\n      <td>680</td>\n      <td>442</td>\n      <td>982</td>\n      <td>1</td>\n    </tr>\n    <tr>\n      <th>4</th>\n      <td>Iter</td>\n      <td>2</td>\n      <td>684</td>\n      <td>508</td>\n      <td>613</td>\n      <td>241</td>\n      <td>249</td>\n      <td>758</td>\n      <td>639</td>\n      <td>1</td>\n    </tr>\n    <tr>\n      <th>5</th>\n      <td>Iter</td>\n      <td>3</td>\n      <td>365</td>\n      <td>126</td>\n      <td>825</td>\n      <td>407</td>\n      <td>855</td>\n      <td>164</td>\n      <td>86</td>\n      <td>1</td>\n    </tr>\n    <tr>\n      <th>...</th>\n      <td>...</td>\n      <td>...</td>\n      <td>...</td>\n      <td>...</td>\n      <td>...</td>\n      <td>...</td>\n      <td>...</td>\n      <td>...</td>\n      <td>...</td>\n      <td>...</td>\n    </tr>\n    <tr>\n      <th>76372</th>\n      <td>Iter</td>\n      <td>6</td>\n      <td>879</td>\n      <td>73</td>\n      <td>977</td>\n      <td>680</td>\n      <td>500</td>\n      <td>395</td>\n      <td>863</td>\n      <td>5994</td>\n    </tr>\n    <tr>\n      <th>76373</th>\n      <td>Average</td>\n      <td>979</td>\n      <td>641</td>\n      <td>531</td>\n      <td>374</td>\n      <td>448</td>\n      <td>407</td>\n      <td>185</td>\n      <td>439</td>\n      <td>5994</td>\n    </tr>\n    <tr>\n      <th>76374</th>\n      <td>Maximum</td>\n      <td>783</td>\n      <td>172</td>\n      <td>941</td>\n      <td>53</td>\n      <td>982</td>\n      <td>217</td>\n      <td>963</td>\n      <td>502</td>\n      <td>5994</td>\n    </tr>\n    <tr>\n      <th>76375</th>\n      <td>Std.Dev.</td>\n      <td>221</td>\n      <td>112</td>\n      <td>717</td>\n      <td>630</td>\n      <td>239</td>\n      <td>561</td>\n      <td>142</td>\n      <td>909</td>\n      <td>5994</td>\n    </tr>\n    <tr>\n      <th>76376</th>\n      <td>Total</td>\n      <td>429</td>\n      <td>-</td>\n      <td>-</td>\n      <td>-</td>\n      <td>-</td>\n      <td>847</td>\n      <td>583</td>\n      <td>407</td>\n      <td>5994</td>\n    </tr>\n  </tbody>\n</table>\n<p>58397 rows × 10 columns</p>\n</div>",
      "text/plain": "                 Row Type       Iter Number             Power1  Speed1  \\\n0      first name: Person  last name: Human  date: end of time     NaN   \n2                Row Type       Iter Number             Power1  Speed1   \n3                    Iter                 1                360     108   \n4                    Iter                 2                684     508   \n5                    Iter                 3                365     126   \n...                   ...               ...                ...     ...   \n76372                Iter                 6                879      73   \n76373             Average               979                641     531   \n76374             Maximum               783                172     941   \n76375            Std.Dev.               221                112     717   \n76376               Total               429                  -       -   \n\n       Speed2  Electricity  Effort  Weight  Torque  Iteration  \n0         NaN          NaN     NaN     NaN     NaN          1  \n2      Speed2  Electricity  Effort  Weight  Torque          1  \n3         863          599     680     442     982          1  \n4         613          241     249     758     639          1  \n5         825          407     855     164      86          1  \n...       ...          ...     ...     ...     ...        ...  \n76372     977          680     500     395     863       5994  \n76373     374          448     407     185     439       5994  \n76374      53          982     217     963     502       5994  \n76375     630          239     561     142     909       5994  \n76376       -            -     847     583     407       5994  \n\n[58397 rows x 10 columns]"
     },
     "execution_count": 43,
     "metadata": {},
     "output_type": "execute_result"
    }
   ],
   "source": [
    "iter_cols = drop_nans\n",
    "iter_cols[\"Iteration\"] = column_values\n",
    "iter_cols"
   ]
  },
  {
   "cell_type": "code",
   "execution_count": 44,
   "metadata": {},
   "outputs": [
    {
     "data": {
      "text/html": "<div>\n<style scoped>\n    .dataframe tbody tr th:only-of-type {\n        vertical-align: middle;\n    }\n\n    .dataframe tbody tr th {\n        vertical-align: top;\n    }\n\n    .dataframe thead th {\n        text-align: right;\n    }\n</style>\n<table border=\"1\" class=\"dataframe\">\n  <thead>\n    <tr style=\"text-align: right;\">\n      <th></th>\n      <th>Row Type</th>\n      <th>Iter Number</th>\n      <th>Power1</th>\n      <th>Speed1</th>\n      <th>Speed2</th>\n      <th>Electricity</th>\n      <th>Effort</th>\n      <th>Weight</th>\n      <th>Torque</th>\n      <th>Iteration</th>\n    </tr>\n  </thead>\n  <tbody>\n    <tr>\n      <th>0</th>\n      <td>first name: Person</td>\n      <td>last name: Human</td>\n      <td>date: end of time</td>\n      <td>NaN</td>\n      <td>NaN</td>\n      <td>NaN</td>\n      <td>NaN</td>\n      <td>NaN</td>\n      <td>NaN</td>\n      <td>1</td>\n    </tr>\n    <tr>\n      <th>3</th>\n      <td>Iter</td>\n      <td>1</td>\n      <td>360</td>\n      <td>108</td>\n      <td>863</td>\n      <td>599</td>\n      <td>680</td>\n      <td>442</td>\n      <td>982</td>\n      <td>1</td>\n    </tr>\n    <tr>\n      <th>4</th>\n      <td>Iter</td>\n      <td>2</td>\n      <td>684</td>\n      <td>508</td>\n      <td>613</td>\n      <td>241</td>\n      <td>249</td>\n      <td>758</td>\n      <td>639</td>\n      <td>1</td>\n    </tr>\n    <tr>\n      <th>5</th>\n      <td>Iter</td>\n      <td>3</td>\n      <td>365</td>\n      <td>126</td>\n      <td>825</td>\n      <td>407</td>\n      <td>855</td>\n      <td>164</td>\n      <td>86</td>\n      <td>1</td>\n    </tr>\n    <tr>\n      <th>6</th>\n      <td>Iter</td>\n      <td>4</td>\n      <td>764</td>\n      <td>594</td>\n      <td>304</td>\n      <td>718</td>\n      <td>278</td>\n      <td>674</td>\n      <td>774</td>\n      <td>1</td>\n    </tr>\n    <tr>\n      <th>...</th>\n      <td>...</td>\n      <td>...</td>\n      <td>...</td>\n      <td>...</td>\n      <td>...</td>\n      <td>...</td>\n      <td>...</td>\n      <td>...</td>\n      <td>...</td>\n      <td>...</td>\n    </tr>\n    <tr>\n      <th>76372</th>\n      <td>Iter</td>\n      <td>6</td>\n      <td>879</td>\n      <td>73</td>\n      <td>977</td>\n      <td>680</td>\n      <td>500</td>\n      <td>395</td>\n      <td>863</td>\n      <td>5994</td>\n    </tr>\n    <tr>\n      <th>76373</th>\n      <td>Average</td>\n      <td>979</td>\n      <td>641</td>\n      <td>531</td>\n      <td>374</td>\n      <td>448</td>\n      <td>407</td>\n      <td>185</td>\n      <td>439</td>\n      <td>5994</td>\n    </tr>\n    <tr>\n      <th>76374</th>\n      <td>Maximum</td>\n      <td>783</td>\n      <td>172</td>\n      <td>941</td>\n      <td>53</td>\n      <td>982</td>\n      <td>217</td>\n      <td>963</td>\n      <td>502</td>\n      <td>5994</td>\n    </tr>\n    <tr>\n      <th>76375</th>\n      <td>Std.Dev.</td>\n      <td>221</td>\n      <td>112</td>\n      <td>717</td>\n      <td>630</td>\n      <td>239</td>\n      <td>561</td>\n      <td>142</td>\n      <td>909</td>\n      <td>5994</td>\n    </tr>\n    <tr>\n      <th>76376</th>\n      <td>Total</td>\n      <td>429</td>\n      <td>-</td>\n      <td>-</td>\n      <td>-</td>\n      <td>-</td>\n      <td>847</td>\n      <td>583</td>\n      <td>407</td>\n      <td>5994</td>\n    </tr>\n  </tbody>\n</table>\n<p>52403 rows × 10 columns</p>\n</div>",
      "text/plain": "                 Row Type       Iter Number             Power1 Speed1 Speed2  \\\n0      first name: Person  last name: Human  date: end of time    NaN    NaN   \n3                    Iter                 1                360    108    863   \n4                    Iter                 2                684    508    613   \n5                    Iter                 3                365    126    825   \n6                    Iter                 4                764    594    304   \n...                   ...               ...                ...    ...    ...   \n76372                Iter                 6                879     73    977   \n76373             Average               979                641    531    374   \n76374             Maximum               783                172    941     53   \n76375            Std.Dev.               221                112    717    630   \n76376               Total               429                  -      -      -   \n\n      Electricity Effort Weight Torque  Iteration  \n0             NaN    NaN    NaN    NaN          1  \n3             599    680    442    982          1  \n4             241    249    758    639          1  \n5             407    855    164     86          1  \n6             718    278    674    774          1  \n...           ...    ...    ...    ...        ...  \n76372         680    500    395    863       5994  \n76373         448    407    185    439       5994  \n76374         982    217    963    502       5994  \n76375         239    561    142    909       5994  \n76376           -    847    583    407       5994  \n\n[52403 rows x 10 columns]"
     },
     "execution_count": 44,
     "metadata": {},
     "output_type": "execute_result"
    }
   ],
   "source": [
    "drop_extra_column_name_rows = iter_cols[iter_cols[\"Row Type\"] != \"Row Type\"]\n",
    "drop_extra_column_name_rows"
   ]
  },
  {
   "cell_type": "code",
   "execution_count": 45,
   "metadata": {},
   "outputs": [
    {
     "name": "stderr",
     "output_type": "stream",
     "text": [
      "/Library/Frameworks/Python.framework/Versions/3.9/lib/python3.9/site-packages/pandas/core/frame.py:4308: SettingWithCopyWarning: \n",
      "A value is trying to be set on a copy of a slice from a DataFrame\n",
      "\n",
      "See the caveats in the documentation: https://pandas.pydata.org/pandas-docs/stable/user_guide/indexing.html#returning-a-view-versus-a-copy\n",
      "  return super().drop(\n",
      "/Library/Frameworks/Python.framework/Versions/3.9/lib/python3.9/site-packages/pandas/core/frame.py:4441: SettingWithCopyWarning: \n",
      "A value is trying to be set on a copy of a slice from a DataFrame\n",
      "\n",
      "See the caveats in the documentation: https://pandas.pydata.org/pandas-docs/stable/user_guide/indexing.html#returning-a-view-versus-a-copy\n",
      "  return super().rename(\n",
      "/var/folders/6t/46w6nxw10wn8zdy79z0hgp8c0000gn/T/ipykernel_96762/2695682083.py:4: SettingWithCopyWarning: \n",
      "A value is trying to be set on a copy of a slice from a DataFrame.\n",
      "Try using .loc[row_indexer,col_indexer] = value instead\n",
      "\n",
      "See the caveats in the documentation: https://pandas.pydata.org/pandas-docs/stable/user_guide/indexing.html#returning-a-view-versus-a-copy\n",
      "  name_dataframe[\"First Name\"] = name_dataframe[\"First Name\"].str[12:]\n",
      "/var/folders/6t/46w6nxw10wn8zdy79z0hgp8c0000gn/T/ipykernel_96762/2695682083.py:5: SettingWithCopyWarning: \n",
      "A value is trying to be set on a copy of a slice from a DataFrame.\n",
      "Try using .loc[row_indexer,col_indexer] = value instead\n",
      "\n",
      "See the caveats in the documentation: https://pandas.pydata.org/pandas-docs/stable/user_guide/indexing.html#returning-a-view-versus-a-copy\n",
      "  name_dataframe[\"Last Name\"] = name_dataframe[\"Last Name\"].str[10:]\n",
      "/var/folders/6t/46w6nxw10wn8zdy79z0hgp8c0000gn/T/ipykernel_96762/2695682083.py:6: SettingWithCopyWarning: \n",
      "A value is trying to be set on a copy of a slice from a DataFrame.\n",
      "Try using .loc[row_indexer,col_indexer] = value instead\n",
      "\n",
      "See the caveats in the documentation: https://pandas.pydata.org/pandas-docs/stable/user_guide/indexing.html#returning-a-view-versus-a-copy\n",
      "  name_dataframe[\"Date\"] = name_dataframe[\"Date\"].str[5:]\n"
     ]
    },
    {
     "data": {
      "text/html": "<div>\n<style scoped>\n    .dataframe tbody tr th:only-of-type {\n        vertical-align: middle;\n    }\n\n    .dataframe tbody tr th {\n        vertical-align: top;\n    }\n\n    .dataframe thead th {\n        text-align: right;\n    }\n</style>\n<table border=\"1\" class=\"dataframe\">\n  <thead>\n    <tr style=\"text-align: right;\">\n      <th></th>\n      <th>First Name</th>\n      <th>Last Name</th>\n      <th>Date</th>\n      <th>Iteration</th>\n    </tr>\n  </thead>\n  <tbody>\n    <tr>\n      <th>0</th>\n      <td>Person</td>\n      <td>Human</td>\n      <td>end of time</td>\n      <td>1</td>\n    </tr>\n    <tr>\n      <th>14</th>\n      <td>Person</td>\n      <td>Human</td>\n      <td>end of time</td>\n      <td>2</td>\n    </tr>\n    <tr>\n      <th>28</th>\n      <td>Person</td>\n      <td>Human</td>\n      <td>end of time</td>\n      <td>3</td>\n    </tr>\n    <tr>\n      <th>42</th>\n      <td>Person</td>\n      <td>Human</td>\n      <td>end of time</td>\n      <td>4</td>\n    </tr>\n    <tr>\n      <th>56</th>\n      <td>Person</td>\n      <td>Human</td>\n      <td>end of time</td>\n      <td>5</td>\n    </tr>\n    <tr>\n      <th>...</th>\n      <td>...</td>\n      <td>...</td>\n      <td>...</td>\n      <td>...</td>\n    </tr>\n    <tr>\n      <th>76309</th>\n      <td>Person</td>\n      <td>Human</td>\n      <td>end of time</td>\n      <td>5990</td>\n    </tr>\n    <tr>\n      <th>76322</th>\n      <td>Person</td>\n      <td>Human</td>\n      <td>end of time</td>\n      <td>5991</td>\n    </tr>\n    <tr>\n      <th>76336</th>\n      <td>Person</td>\n      <td>Human</td>\n      <td>end of time</td>\n      <td>5992</td>\n    </tr>\n    <tr>\n      <th>76350</th>\n      <td>Person</td>\n      <td>Human</td>\n      <td>end of time</td>\n      <td>5993</td>\n    </tr>\n    <tr>\n      <th>76364</th>\n      <td>Person</td>\n      <td>Human</td>\n      <td>end of time</td>\n      <td>5994</td>\n    </tr>\n  </tbody>\n</table>\n<p>5994 rows × 4 columns</p>\n</div>",
      "text/plain": "      First Name Last Name          Date  Iteration\n0         Person     Human   end of time          1\n14        Person     Human   end of time          2\n28        Person     Human   end of time          3\n42        Person     Human   end of time          4\n56        Person     Human   end of time          5\n...          ...       ...           ...        ...\n76309     Person     Human   end of time       5990\n76322     Person     Human   end of time       5991\n76336     Person     Human   end of time       5992\n76350     Person     Human   end of time       5993\n76364     Person     Human   end of time       5994\n\n[5994 rows x 4 columns]"
     },
     "execution_count": 45,
     "metadata": {},
     "output_type": "execute_result"
    }
   ],
   "source": [
    "name_dataframe = drop_extra_column_name_rows[drop_extra_column_name_rows[\"Row Type\"].str.contains(\"first name\")]\n",
    "name_dataframe.drop(columns=[\"Speed1\", \"Speed2\", \"Electricity\", \"Effort\",\"Weight\",\"Torque\"], inplace=True)\n",
    "name_dataframe.rename(columns={\"Row Type\": \"First Name\", \"Iter Number\":\"Last Name\", \"Power1\": \"Date\"}, inplace=True)\n",
    "name_dataframe[\"First Name\"] = name_dataframe[\"First Name\"].str[12:]\n",
    "name_dataframe[\"Last Name\"] = name_dataframe[\"Last Name\"].str[10:]\n",
    "name_dataframe[\"Date\"] = name_dataframe[\"Date\"].str[5:]\n",
    "name_dataframe"
   ]
  },
  {
   "cell_type": "code",
   "execution_count": 50,
   "metadata": {},
   "outputs": [
    {
     "data": {
      "text/html": "<div>\n<style scoped>\n    .dataframe tbody tr th:only-of-type {\n        vertical-align: middle;\n    }\n\n    .dataframe tbody tr th {\n        vertical-align: top;\n    }\n\n    .dataframe thead th {\n        text-align: right;\n    }\n</style>\n<table border=\"1\" class=\"dataframe\">\n  <thead>\n    <tr style=\"text-align: right;\">\n      <th></th>\n      <th>Row Type</th>\n      <th>Iter Number</th>\n      <th>Power1</th>\n      <th>Speed1</th>\n      <th>Speed2</th>\n      <th>Electricity</th>\n      <th>Effort</th>\n      <th>Weight</th>\n      <th>Torque</th>\n      <th>Iteration</th>\n    </tr>\n  </thead>\n  <tbody>\n    <tr>\n      <th>3</th>\n      <td>Iter</td>\n      <td>1</td>\n      <td>360</td>\n      <td>108</td>\n      <td>863</td>\n      <td>599</td>\n      <td>680</td>\n      <td>442</td>\n      <td>982</td>\n      <td>1</td>\n    </tr>\n    <tr>\n      <th>4</th>\n      <td>Iter</td>\n      <td>2</td>\n      <td>684</td>\n      <td>508</td>\n      <td>613</td>\n      <td>241</td>\n      <td>249</td>\n      <td>758</td>\n      <td>639</td>\n      <td>1</td>\n    </tr>\n    <tr>\n      <th>5</th>\n      <td>Iter</td>\n      <td>3</td>\n      <td>365</td>\n      <td>126</td>\n      <td>825</td>\n      <td>407</td>\n      <td>855</td>\n      <td>164</td>\n      <td>86</td>\n      <td>1</td>\n    </tr>\n    <tr>\n      <th>6</th>\n      <td>Iter</td>\n      <td>4</td>\n      <td>764</td>\n      <td>594</td>\n      <td>304</td>\n      <td>718</td>\n      <td>278</td>\n      <td>674</td>\n      <td>774</td>\n      <td>1</td>\n    </tr>\n    <tr>\n      <th>7</th>\n      <td>Iter</td>\n      <td>5</td>\n      <td>487</td>\n      <td>97</td>\n      <td>593</td>\n      <td>206</td>\n      <td>779</td>\n      <td>800</td>\n      <td>123</td>\n      <td>1</td>\n    </tr>\n    <tr>\n      <th>...</th>\n      <td>...</td>\n      <td>...</td>\n      <td>...</td>\n      <td>...</td>\n      <td>...</td>\n      <td>...</td>\n      <td>...</td>\n      <td>...</td>\n      <td>...</td>\n      <td>...</td>\n    </tr>\n    <tr>\n      <th>76372</th>\n      <td>Iter</td>\n      <td>6</td>\n      <td>879</td>\n      <td>73</td>\n      <td>977</td>\n      <td>680</td>\n      <td>500</td>\n      <td>395</td>\n      <td>863</td>\n      <td>5994</td>\n    </tr>\n    <tr>\n      <th>76373</th>\n      <td>Average</td>\n      <td>979</td>\n      <td>641</td>\n      <td>531</td>\n      <td>374</td>\n      <td>448</td>\n      <td>407</td>\n      <td>185</td>\n      <td>439</td>\n      <td>5994</td>\n    </tr>\n    <tr>\n      <th>76374</th>\n      <td>Maximum</td>\n      <td>783</td>\n      <td>172</td>\n      <td>941</td>\n      <td>53</td>\n      <td>982</td>\n      <td>217</td>\n      <td>963</td>\n      <td>502</td>\n      <td>5994</td>\n    </tr>\n    <tr>\n      <th>76375</th>\n      <td>Std.Dev.</td>\n      <td>221</td>\n      <td>112</td>\n      <td>717</td>\n      <td>630</td>\n      <td>239</td>\n      <td>561</td>\n      <td>142</td>\n      <td>909</td>\n      <td>5994</td>\n    </tr>\n    <tr>\n      <th>76376</th>\n      <td>Total</td>\n      <td>429</td>\n      <td>-</td>\n      <td>-</td>\n      <td>-</td>\n      <td>-</td>\n      <td>847</td>\n      <td>583</td>\n      <td>407</td>\n      <td>5994</td>\n    </tr>\n  </tbody>\n</table>\n<p>46409 rows × 10 columns</p>\n</div>",
      "text/plain": "       Row Type Iter Number Power1 Speed1 Speed2 Electricity Effort Weight  \\\n3          Iter           1    360    108    863         599    680    442   \n4          Iter           2    684    508    613         241    249    758   \n5          Iter           3    365    126    825         407    855    164   \n6          Iter           4    764    594    304         718    278    674   \n7          Iter           5    487     97    593         206    779    800   \n...         ...         ...    ...    ...    ...         ...    ...    ...   \n76372      Iter           6    879     73    977         680    500    395   \n76373   Average         979    641    531    374         448    407    185   \n76374   Maximum         783    172    941     53         982    217    963   \n76375  Std.Dev.         221    112    717    630         239    561    142   \n76376     Total         429      -      -      -           -    847    583   \n\n      Torque  Iteration  \n3        982          1  \n4        639          1  \n5         86          1  \n6        774          1  \n7        123          1  \n...      ...        ...  \n76372    863       5994  \n76373    439       5994  \n76374    502       5994  \n76375    909       5994  \n76376    407       5994  \n\n[46409 rows x 10 columns]"
     },
     "execution_count": 50,
     "metadata": {},
     "output_type": "execute_result"
    }
   ],
   "source": [
    "no_name_dataframe = drop_extra_column_name_rows[~drop_extra_column_name_rows[\"Row Type\"].str.contains(\"first name\")]\n",
    "no_name_dataframe"
   ]
  },
  {
   "cell_type": "code",
   "execution_count": 51,
   "metadata": {},
   "outputs": [
    {
     "data": {
      "text/html": "<div>\n<style scoped>\n    .dataframe tbody tr th:only-of-type {\n        vertical-align: middle;\n    }\n\n    .dataframe tbody tr th {\n        vertical-align: top;\n    }\n\n    .dataframe thead th {\n        text-align: right;\n    }\n</style>\n<table border=\"1\" class=\"dataframe\">\n  <thead>\n    <tr style=\"text-align: right;\">\n      <th></th>\n      <th>First Name</th>\n      <th>Last Name</th>\n      <th>Date</th>\n      <th>Iteration</th>\n      <th>Row Type</th>\n      <th>Iter Number</th>\n      <th>Power1</th>\n      <th>Speed1</th>\n      <th>Speed2</th>\n      <th>Electricity</th>\n      <th>Effort</th>\n      <th>Weight</th>\n      <th>Torque</th>\n    </tr>\n  </thead>\n  <tbody>\n    <tr>\n      <th>0</th>\n      <td>Person</td>\n      <td>Human</td>\n      <td>end of time</td>\n      <td>1</td>\n      <td>Iter</td>\n      <td>1</td>\n      <td>360</td>\n      <td>108</td>\n      <td>863</td>\n      <td>599</td>\n      <td>680</td>\n      <td>442</td>\n      <td>982</td>\n    </tr>\n    <tr>\n      <th>1</th>\n      <td>Person</td>\n      <td>Human</td>\n      <td>end of time</td>\n      <td>1</td>\n      <td>Iter</td>\n      <td>2</td>\n      <td>684</td>\n      <td>508</td>\n      <td>613</td>\n      <td>241</td>\n      <td>249</td>\n      <td>758</td>\n      <td>639</td>\n    </tr>\n    <tr>\n      <th>2</th>\n      <td>Person</td>\n      <td>Human</td>\n      <td>end of time</td>\n      <td>1</td>\n      <td>Iter</td>\n      <td>3</td>\n      <td>365</td>\n      <td>126</td>\n      <td>825</td>\n      <td>407</td>\n      <td>855</td>\n      <td>164</td>\n      <td>86</td>\n    </tr>\n    <tr>\n      <th>3</th>\n      <td>Person</td>\n      <td>Human</td>\n      <td>end of time</td>\n      <td>1</td>\n      <td>Iter</td>\n      <td>4</td>\n      <td>764</td>\n      <td>594</td>\n      <td>304</td>\n      <td>718</td>\n      <td>278</td>\n      <td>674</td>\n      <td>774</td>\n    </tr>\n    <tr>\n      <th>4</th>\n      <td>Person</td>\n      <td>Human</td>\n      <td>end of time</td>\n      <td>1</td>\n      <td>Iter</td>\n      <td>5</td>\n      <td>487</td>\n      <td>97</td>\n      <td>593</td>\n      <td>206</td>\n      <td>779</td>\n      <td>800</td>\n      <td>123</td>\n    </tr>\n    <tr>\n      <th>...</th>\n      <td>...</td>\n      <td>...</td>\n      <td>...</td>\n      <td>...</td>\n      <td>...</td>\n      <td>...</td>\n      <td>...</td>\n      <td>...</td>\n      <td>...</td>\n      <td>...</td>\n      <td>...</td>\n      <td>...</td>\n      <td>...</td>\n    </tr>\n    <tr>\n      <th>46404</th>\n      <td>Person</td>\n      <td>Human</td>\n      <td>end of time</td>\n      <td>5994</td>\n      <td>Iter</td>\n      <td>6</td>\n      <td>879</td>\n      <td>73</td>\n      <td>977</td>\n      <td>680</td>\n      <td>500</td>\n      <td>395</td>\n      <td>863</td>\n    </tr>\n    <tr>\n      <th>46405</th>\n      <td>Person</td>\n      <td>Human</td>\n      <td>end of time</td>\n      <td>5994</td>\n      <td>Average</td>\n      <td>979</td>\n      <td>641</td>\n      <td>531</td>\n      <td>374</td>\n      <td>448</td>\n      <td>407</td>\n      <td>185</td>\n      <td>439</td>\n    </tr>\n    <tr>\n      <th>46406</th>\n      <td>Person</td>\n      <td>Human</td>\n      <td>end of time</td>\n      <td>5994</td>\n      <td>Maximum</td>\n      <td>783</td>\n      <td>172</td>\n      <td>941</td>\n      <td>53</td>\n      <td>982</td>\n      <td>217</td>\n      <td>963</td>\n      <td>502</td>\n    </tr>\n    <tr>\n      <th>46407</th>\n      <td>Person</td>\n      <td>Human</td>\n      <td>end of time</td>\n      <td>5994</td>\n      <td>Std.Dev.</td>\n      <td>221</td>\n      <td>112</td>\n      <td>717</td>\n      <td>630</td>\n      <td>239</td>\n      <td>561</td>\n      <td>142</td>\n      <td>909</td>\n    </tr>\n    <tr>\n      <th>46408</th>\n      <td>Person</td>\n      <td>Human</td>\n      <td>end of time</td>\n      <td>5994</td>\n      <td>Total</td>\n      <td>429</td>\n      <td>-</td>\n      <td>-</td>\n      <td>-</td>\n      <td>-</td>\n      <td>847</td>\n      <td>583</td>\n      <td>407</td>\n    </tr>\n  </tbody>\n</table>\n<p>46409 rows × 13 columns</p>\n</div>",
      "text/plain": "      First Name Last Name          Date  Iteration  Row Type Iter Number  \\\n0         Person     Human   end of time          1      Iter           1   \n1         Person     Human   end of time          1      Iter           2   \n2         Person     Human   end of time          1      Iter           3   \n3         Person     Human   end of time          1      Iter           4   \n4         Person     Human   end of time          1      Iter           5   \n...          ...       ...           ...        ...       ...         ...   \n46404     Person     Human   end of time       5994      Iter           6   \n46405     Person     Human   end of time       5994   Average         979   \n46406     Person     Human   end of time       5994   Maximum         783   \n46407     Person     Human   end of time       5994  Std.Dev.         221   \n46408     Person     Human   end of time       5994     Total         429   \n\n      Power1 Speed1 Speed2 Electricity Effort Weight Torque  \n0        360    108    863         599    680    442    982  \n1        684    508    613         241    249    758    639  \n2        365    126    825         407    855    164     86  \n3        764    594    304         718    278    674    774  \n4        487     97    593         206    779    800    123  \n...      ...    ...    ...         ...    ...    ...    ...  \n46404    879     73    977         680    500    395    863  \n46405    641    531    374         448    407    185    439  \n46406    172    941     53         982    217    963    502  \n46407    112    717    630         239    561    142    909  \n46408      -      -      -           -    847    583    407  \n\n[46409 rows x 13 columns]"
     },
     "execution_count": 51,
     "metadata": {},
     "output_type": "execute_result"
    }
   ],
   "source": [
    "pd.merge(left=name_dataframe, right=no_name_dataframe, how=\"inner\", on=\"Iteration\")"
   ]
  }
 ],
 "metadata": {
  "kernelspec": {
   "display_name": "Python 3.9.1 64-bit",
   "metadata": {
    "interpreter": {
     "hash": "7812ea015bdcee6f23a998adcdd2ef97c151c0c241b7b7070987d9313e41299d"
    }
   },
   "name": "python3"
  },
  "language_info": {
   "codemirror_mode": {
    "name": "ipython",
    "version": 3
   },
   "file_extension": ".py",
   "mimetype": "text/x-python",
   "name": "python",
   "nbconvert_exporter": "python",
   "pygments_lexer": "ipython3",
   "version": "3.9.1rc1"
  },
  "orig_nbformat": 2
 },
 "nbformat": 4,
 "nbformat_minor": 2
}