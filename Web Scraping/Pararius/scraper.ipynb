{
 "cells": [
  {
   "cell_type": "code",
   "execution_count": 35,
   "metadata": {},
   "outputs": [],
   "source": [
    "from bs4 import BeautifulSoup\n",
    "import requests\n",
    "from csv import writer"
   ]
  },
  {
   "cell_type": "code",
   "execution_count": 36,
   "metadata": {},
   "outputs": [],
   "source": [
    "URL= \"https://www.pararius.com/apartments/amsterdam?ac=1\"\n",
    "\n",
    "page = requests.get(URL)\n",
    "\n",
    "headers= {\"User-Agent\": \"Mozilla/5.0 (Macintosh; Intel Mac OS X 10_15_6) AppleWebKit/605.1.15 (KHTML, like Gecko) Version/14.0.3 Safari/605.1.15\"}\n",
    "\n",
    "page = requests.get(URL, headers=headers)\n",
    "\n",
    "soup1 = BeautifulSoup(page.content, \"html.parser\")\n",
    "\n",
    "soup2 = BeautifulSoup(soup1.prettify(), \"html.parser\")\n"
   ]
  },
  {
   "cell_type": "code",
   "execution_count": 37,
   "metadata": {},
   "outputs": [],
   "source": [
    "lists = soup2.find_all('section', class_=\"listing-search-item\")\n",
    "\n",
    "with open('Pararius.csv', 'w', encoding='utf8', newline='') as f:\n",
    "    thewriter = writer(f)\n",
    "    header = ['Title', 'Location', 'Price', 'Area']\n",
    "    thewriter.writerow(header)\n",
    "\n",
    "    for list in lists:\n",
    "        title = list.find('a', class_=\"listing-search-item__link--title\").get_text().replace('\\n', '')\n",
    "        location = list.find('div', class_=\"listing-search-item__location\").get_text().replace('\\n', '')\n",
    "        price = list.find('div', class_=\"listing-search-item__price\").get_text().replace('\\n', '')\n",
    "        area = list.find('li', class_=\"illustrated-features__item--surface-area\").get_text().replace('\\n', '')\n",
    "\n",
    "        info = [title, location, price, area]\n",
    "        thewriter.writerow(info)\n"
   ]
  },
  {
   "cell_type": "code",
   "execution_count": null,
   "metadata": {},
   "outputs": [],
   "source": []
  }
 ],
 "metadata": {
  "kernelspec": {
   "display_name": "Python 3.9.5 64-bit (conda)",
   "metadata": {
    "interpreter": {
     "hash": "cbe6a5cc571c62dd27f364faeccd2c471441c1c4f4c047871f50f7296df99976"
    }
   },
   "name": "python3"
  },
  "language_info": {
   "codemirror_mode": {
    "name": "ipython",
    "version": 3
   },
   "file_extension": ".py",
   "mimetype": "text/x-python",
   "name": "python",
   "nbconvert_exporter": "python",
   "pygments_lexer": "ipython3",
   "version": "3.9.5"
  },
  "orig_nbformat": 2
 },
 "nbformat": 4,
 "nbformat_minor": 2
}